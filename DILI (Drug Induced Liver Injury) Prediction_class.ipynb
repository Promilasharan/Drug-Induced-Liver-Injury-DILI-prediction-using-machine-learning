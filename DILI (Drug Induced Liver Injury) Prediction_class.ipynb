{
 "cells": [
  {
   "cell_type": "code",
   "execution_count": 1,
   "id": "5ff6da8e",
   "metadata": {},
   "outputs": [],
   "source": [
    "# we'll first collect data approved by FDA\n",
    "#Data used in this project is taken from this research article-supplimentary information section-\"Quantitative structure-activity relationship models for predicting drug-induced liver injury based on FDA-approved drug labelling annotation and using a large collection of drugs\"\n",
    "#\"DeepDILI: Deep learning-Powered Drug-Induced Liver Injury Prediction using Model-Level Representation\"\n",
    "#Most of the research papers uses NCTR Liver Cancer Database(NCTRIcdb)"
   ]
  },
  {
   "cell_type": "markdown",
   "id": "4edd328c",
   "metadata": {},
   "source": [
    "\n",
    "The main aim of this project is to predict the Drug-induced liver injury (DILI) which is a major factor in the development of drugs and the safety of drugs. If the DILI cannot be effectively predicted during the development of the drug, it will cause the drug to be withdrawn from markets.\n",
    "Physicochemical nature of compounds like lipophilicity has been identified as an important risk factor for DILI when considering together with daily dose. So various physicochemical properties of the molecules generated using padelpy descriptors.\n",
    "Drug-induced liver injury (DILI) is a major factor in the development of drugs and the safety of drugs. If the DILI cannot be effectively predicted during the development of the drug, it will cause the drug to be withdrawn from markets. Therefore, DILI is crucial at the early stages of drug research. This work presents a 2-class ensemble classifier model for predicting DILI, with 2D molecular descriptors and fingerprints on a dataset of 450 compounds. The purpose of our study is to investigate which are the key molecular fingerprints that may cause DILI risk, and then to obtain a reliable ensemble model to predict DILI risk with these key factors. Experimental results suggested that 8 molecular fingerprints are very critical for predicting DILI, and also obtained the best ratio of molecular fingerprints to molecular descriptors. The result of the 5-fold cross-validation of the ensemble vote classifier method obtain an accuracy of 77.25%, and the accuracy of the test set was 81.67%. This model could be used for drug-induced liver injury prediction.\n"
   ]
  },
  {
   "cell_type": "markdown",
   "id": "a13d72fb",
   "metadata": {},
   "source": [
    "#References\n",
    "Minjun Chen, Huixiao Hong, Hong Fang, Reagan Kelly, Guangxu Zhou, Jürgen Borlak, Weida Tong, Quantitative Structure-Activity Relationship Models for Predicting Drug-Induced Liver Injury Based on FDA-Approved Drug Labeling Annotation and Using a Large Collection of Drugs, Toxicological Sciences, Volume 136, Issue 1, November 2013, Pages 242–249, https://doi.org/10.1093/toxsci/kft189\n"
   ]
  },
  {
   "cell_type": "code",
   "execution_count": 71,
   "id": "a7e649c5",
   "metadata": {},
   "outputs": [],
   "source": [
    "import pandas as pd\n",
    "import numpy as np\n",
    "\n",
    "#RDkit library for generation & further processing of physicochemical properties\n",
    "import rdkit\n",
    "from rdkit import Chem, DataStructs, RDConfig\n",
    "from rdkit.Chem import AllChem\n",
    "from rdkit.Chem import MACCSkeys\n",
    "from rdkit.ML.Descriptors import MoleculeDescriptors\n",
    "from rdkit.Chem import Descriptors as des\n",
    "from rdkit.Chem.Descriptors import qed\n",
    "from rdkit.Chem import QED\n",
    "from rdkit import Chem\n",
    "import rdkit.Chem.AllChem\n",
    "from rdkit import rdBase\n",
    "from rdkit.Chem.Draw import IPythonConsole\n",
    "from rdkit.Chem import Draw\n",
    "from rdkit.Chem import MolStandardize\n",
    "from rdkit.Chem.Scaffolds import MurckoScaffold\n",
    "rdBase.rdkitVersion\n",
    "%matplotlib inline\n",
    "\n",
    "\n",
    "from sklearn.model_selection import train_test_split\n",
    "from sklearn.ensemble import RandomForestClassifier\n",
    "from sklearn.model_selection import GridSearchCV\n",
    "from sklearn.preprocessing import MinMaxScaler\n",
    "from sklearn.preprocessing import LabelEncoder\n",
    "from sklearn.model_selection import cross_val_score, cross_val_predict\n",
    "from sklearn.metrics import classification_report\n",
    "from sklearn.metrics import confusion_matrix\n",
    "import seaborn as sns\n",
    "import matplotlib.pyplot as plt\n",
    "from sklearn.model_selection import cross_val_score\n",
    "\n",
    "\n"
   ]
  },
  {
   "cell_type": "code",
   "execution_count": 3,
   "id": "8fa0e7f0",
   "metadata": {},
   "outputs": [
    {
     "name": "stdout",
     "output_type": "stream",
     "text": [
      "Requirement already satisfied: xlrd in ./opt/anaconda3/envs/uresearcher/lib/python3.7/site-packages (2.0.1)\r\n"
     ]
    }
   ],
   "source": [
    "!pip install xlrd"
   ]
  },
  {
   "cell_type": "code",
   "execution_count": 4,
   "id": "dc40355e",
   "metadata": {},
   "outputs": [],
   "source": [
    "#we can open different sheets present in excel using the sheet_name option like 0,1,2,3 etc\n",
    "S1=pd.read_excel('/Users/promilasharan/downloads/kft189_Supplementary_Data/toxsci_13_0303_File013.xls', sheet_name=0)"
   ]
  },
  {
   "cell_type": "code",
   "execution_count": 5,
   "id": "f80698be",
   "metadata": {},
   "outputs": [],
   "source": [
    "S2=pd.read_excel('/Users/promilasharan/downloads/kft189_Supplementary_Data/toxsci_13_0303_File013.xls', sheet_name=1)"
   ]
  },
  {
   "cell_type": "code",
   "execution_count": 6,
   "id": "5f1ba472",
   "metadata": {},
   "outputs": [
    {
     "data": {
      "text/html": [
       "<div>\n",
       "<style scoped>\n",
       "    .dataframe tbody tr th:only-of-type {\n",
       "        vertical-align: middle;\n",
       "    }\n",
       "\n",
       "    .dataframe tbody tr th {\n",
       "        vertical-align: top;\n",
       "    }\n",
       "\n",
       "    .dataframe thead th {\n",
       "        text-align: right;\n",
       "    }\n",
       "</style>\n",
       "<table border=\"1\" class=\"dataframe\">\n",
       "  <thead>\n",
       "    <tr style=\"text-align: right;\">\n",
       "      <th></th>\n",
       "      <th>PubChem</th>\n",
       "      <th>CompoundName</th>\n",
       "      <th>Drug label-based annotation</th>\n",
       "    </tr>\n",
       "  </thead>\n",
       "  <tbody>\n",
       "    <tr>\n",
       "      <th>0</th>\n",
       "      <td>3474</td>\n",
       "      <td>glafenine</td>\n",
       "      <td>Most DILI-concern</td>\n",
       "    </tr>\n",
       "    <tr>\n",
       "      <th>1</th>\n",
       "      <td>2478</td>\n",
       "      <td>busulfan</td>\n",
       "      <td>Most DILI-concern</td>\n",
       "    </tr>\n",
       "    <tr>\n",
       "      <th>2</th>\n",
       "      <td>2520</td>\n",
       "      <td>verapamil</td>\n",
       "      <td>Most DILI-concern</td>\n",
       "    </tr>\n",
       "    <tr>\n",
       "      <th>3</th>\n",
       "      <td>2662</td>\n",
       "      <td>celecoxib</td>\n",
       "      <td>Most DILI-concern</td>\n",
       "    </tr>\n",
       "    <tr>\n",
       "      <th>4</th>\n",
       "      <td>2898</td>\n",
       "      <td>cyclofenil</td>\n",
       "      <td>Most DILI-concern</td>\n",
       "    </tr>\n",
       "  </tbody>\n",
       "</table>\n",
       "</div>"
      ],
      "text/plain": [
       "   PubChem CompoundName Drug label-based annotation\n",
       "0     3474    glafenine           Most DILI-concern\n",
       "1     2478     busulfan           Most DILI-concern\n",
       "2     2520    verapamil           Most DILI-concern\n",
       "3     2662    celecoxib           Most DILI-concern\n",
       "4     2898   cyclofenil           Most DILI-concern"
      ]
     },
     "execution_count": 6,
     "metadata": {},
     "output_type": "execute_result"
    }
   ],
   "source": [
    "S1.head(5)"
   ]
  },
  {
   "cell_type": "code",
   "execution_count": 7,
   "id": "4a54b666",
   "metadata": {},
   "outputs": [
    {
     "data": {
      "text/plain": [
       "no DILI-concern      116\n",
       "Most DILI-concern     81\n",
       "Name: Drug label-based annotation, dtype: int64"
      ]
     },
     "execution_count": 7,
     "metadata": {},
     "output_type": "execute_result"
    }
   ],
   "source": [
    "S1[\"Drug label-based annotation\"].value_counts()"
   ]
  },
  {
   "cell_type": "code",
   "execution_count": 8,
   "id": "443746a4",
   "metadata": {},
   "outputs": [
    {
     "data": {
      "text/html": [
       "<div>\n",
       "<style scoped>\n",
       "    .dataframe tbody tr th:only-of-type {\n",
       "        vertical-align: middle;\n",
       "    }\n",
       "\n",
       "    .dataframe tbody tr th {\n",
       "        vertical-align: top;\n",
       "    }\n",
       "\n",
       "    .dataframe thead th {\n",
       "        text-align: right;\n",
       "    }\n",
       "</style>\n",
       "<table border=\"1\" class=\"dataframe\">\n",
       "  <thead>\n",
       "    <tr style=\"text-align: right;\">\n",
       "      <th></th>\n",
       "      <th>PubChem</th>\n",
       "      <th>CompoundName</th>\n",
       "      <th>Drug label-based annotation</th>\n",
       "      <th>QSAR Prediction</th>\n",
       "    </tr>\n",
       "  </thead>\n",
       "  <tbody>\n",
       "    <tr>\n",
       "      <th>0</th>\n",
       "      <td>28417</td>\n",
       "      <td>danazol</td>\n",
       "      <td>Most DILI-concern</td>\n",
       "      <td>0</td>\n",
       "    </tr>\n",
       "    <tr>\n",
       "      <th>1</th>\n",
       "      <td>65027</td>\n",
       "      <td>tipranavir</td>\n",
       "      <td>Most DILI-concern</td>\n",
       "      <td>1</td>\n",
       "    </tr>\n",
       "    <tr>\n",
       "      <th>2</th>\n",
       "      <td>50599</td>\n",
       "      <td>didanosine</td>\n",
       "      <td>Most DILI-concern</td>\n",
       "      <td>1</td>\n",
       "    </tr>\n",
       "    <tr>\n",
       "      <th>3</th>\n",
       "      <td>18283</td>\n",
       "      <td>stavudine</td>\n",
       "      <td>Most DILI-concern</td>\n",
       "      <td>1</td>\n",
       "    </tr>\n",
       "    <tr>\n",
       "      <th>4</th>\n",
       "      <td>60825</td>\n",
       "      <td>lamivudine</td>\n",
       "      <td>Most DILI-concern</td>\n",
       "      <td>1</td>\n",
       "    </tr>\n",
       "  </tbody>\n",
       "</table>\n",
       "</div>"
      ],
      "text/plain": [
       "   PubChem CompoundName Drug label-based annotation  QSAR Prediction\n",
       "0    28417      danazol           Most DILI-concern                0\n",
       "1    65027   tipranavir           Most DILI-concern                1\n",
       "2    50599   didanosine           Most DILI-concern                1\n",
       "3    18283    stavudine           Most DILI-concern                1\n",
       "4    60825   lamivudine           Most DILI-concern                1"
      ]
     },
     "execution_count": 8,
     "metadata": {},
     "output_type": "execute_result"
    }
   ],
   "source": [
    "S2.head()"
   ]
  },
  {
   "cell_type": "code",
   "execution_count": 9,
   "id": "d112a97e",
   "metadata": {},
   "outputs": [
    {
     "data": {
      "text/plain": [
       "(190, 4)"
      ]
     },
     "execution_count": 9,
     "metadata": {},
     "output_type": "execute_result"
    }
   ],
   "source": [
    "S2.shape"
   ]
  },
  {
   "cell_type": "code",
   "execution_count": 10,
   "id": "5678ca8e",
   "metadata": {},
   "outputs": [
    {
     "data": {
      "text/plain": [
       "Most DILI-concern    95\n",
       "no DILI-concern      95\n",
       "Name: Drug label-based annotation, dtype: int64"
      ]
     },
     "execution_count": 10,
     "metadata": {},
     "output_type": "execute_result"
    }
   ],
   "source": [
    "S2[\"Drug label-based annotation\"].value_counts()"
   ]
  },
  {
   "cell_type": "code",
   "execution_count": 11,
   "id": "0840e3d4",
   "metadata": {},
   "outputs": [],
   "source": [
    "df1=pd.read_csv('/Users/promilasharan/downloads/S1.csv')"
   ]
  },
  {
   "cell_type": "code",
   "execution_count": 12,
   "id": "405a97ff",
   "metadata": {
    "scrolled": true
   },
   "outputs": [
    {
     "data": {
      "text/html": [
       "<div>\n",
       "<style scoped>\n",
       "    .dataframe tbody tr th:only-of-type {\n",
       "        vertical-align: middle;\n",
       "    }\n",
       "\n",
       "    .dataframe tbody tr th {\n",
       "        vertical-align: top;\n",
       "    }\n",
       "\n",
       "    .dataframe thead th {\n",
       "        text-align: right;\n",
       "    }\n",
       "</style>\n",
       "<table border=\"1\" class=\"dataframe\">\n",
       "  <thead>\n",
       "    <tr style=\"text-align: right;\">\n",
       "      <th></th>\n",
       "      <th>cid</th>\n",
       "      <th>cmpdname</th>\n",
       "      <th>cmpdsynonym</th>\n",
       "      <th>mw</th>\n",
       "      <th>mf</th>\n",
       "      <th>polararea</th>\n",
       "      <th>complexity</th>\n",
       "      <th>xlogp</th>\n",
       "      <th>heavycnt</th>\n",
       "      <th>hbonddonor</th>\n",
       "      <th>...</th>\n",
       "      <th>inchikey</th>\n",
       "      <th>iupacname</th>\n",
       "      <th>meshheadings</th>\n",
       "      <th>annothits</th>\n",
       "      <th>annothitcnt</th>\n",
       "      <th>aids</th>\n",
       "      <th>cidcdate</th>\n",
       "      <th>sidsrcname</th>\n",
       "      <th>depcatg</th>\n",
       "      <th>annotation</th>\n",
       "    </tr>\n",
       "  </thead>\n",
       "  <tbody>\n",
       "    <tr>\n",
       "      <th>0</th>\n",
       "      <td>298</td>\n",
       "      <td>2,2-dichloro-N-[1,3-dihydroxy-1-(4-nitrophenyl...</td>\n",
       "      <td>2,2-dichloro-N-[1,3-dihydroxy-1-(4-nitrophenyl...</td>\n",
       "      <td>323.13</td>\n",
       "      <td>C11H12Cl2N2O5</td>\n",
       "      <td>115.0</td>\n",
       "      <td>342.0</td>\n",
       "      <td>1.1</td>\n",
       "      <td>20</td>\n",
       "      <td>3</td>\n",
       "      <td>...</td>\n",
       "      <td>WIIZWVCIJKGZOK-UHFFFAOYSA-N</td>\n",
       "      <td>2,2-dichloro-N-[1,3-dihydroxy-1-(4-nitrophenyl...</td>\n",
       "      <td>NaN</td>\n",
       "      <td>Biological Test Results|Chemical and Physical ...</td>\n",
       "      <td>11</td>\n",
       "      <td>155|157|175|248|256|328|485|631|731|757|758|75...</td>\n",
       "      <td>20050325</td>\n",
       "      <td>001Chemical|AAA Chemistry|abcr GmbH|ABI Chem|A...</td>\n",
       "      <td>Chemical Vendors|Curation Efforts|Governmental...</td>\n",
       "      <td>NaN</td>\n",
       "    </tr>\n",
       "    <tr>\n",
       "      <th>1</th>\n",
       "      <td>338</td>\n",
       "      <td>Salicylic acid</td>\n",
       "      <td>salicylic acid|2-Hydroxybenzoic acid|69-72-7|o...</td>\n",
       "      <td>138.12</td>\n",
       "      <td>C7H6O3</td>\n",
       "      <td>57.5</td>\n",
       "      <td>133.0</td>\n",
       "      <td>2.3</td>\n",
       "      <td>10</td>\n",
       "      <td>2</td>\n",
       "      <td>...</td>\n",
       "      <td>YGSDEFSMJLZEOE-UHFFFAOYSA-N</td>\n",
       "      <td>2-hydroxybenzoic acid</td>\n",
       "      <td>Salicylic Acid</td>\n",
       "      <td>Biological Test Results|Biomolecular Interacti...</td>\n",
       "      <td>16</td>\n",
       "      <td>155|157|161|165|167|175|179|248|485|568|583|59...</td>\n",
       "      <td>20040916</td>\n",
       "      <td>001Chemical|3B Scientific (Wuhan) Corp|3WAY PH...</td>\n",
       "      <td>Chemical Vendors|Curation Efforts|Governmental...</td>\n",
       "      <td>NaN</td>\n",
       "    </tr>\n",
       "    <tr>\n",
       "      <th>2</th>\n",
       "      <td>938</td>\n",
       "      <td>Nicotinic acid</td>\n",
       "      <td>nicotinic acid|niacin|59-67-6|Pyridine-3-carbo...</td>\n",
       "      <td>123.11</td>\n",
       "      <td>C6H5NO2</td>\n",
       "      <td>50.2</td>\n",
       "      <td>114.0</td>\n",
       "      <td>0.4</td>\n",
       "      <td>9</td>\n",
       "      <td>1</td>\n",
       "      <td>...</td>\n",
       "      <td>PVNIIMVLHYAWGP-UHFFFAOYSA-N</td>\n",
       "      <td>pyridine-3-carboxylic acid</td>\n",
       "      <td>Niacin</td>\n",
       "      <td>Biological Test Results|Biomolecular Interacti...</td>\n",
       "      <td>17</td>\n",
       "      <td>192|248|357|410|411|444|445|446|447|448|450|45...</td>\n",
       "      <td>20040916</td>\n",
       "      <td>001Chemical|3B Scientific (Wuhan) Corp|3WAY PH...</td>\n",
       "      <td>Chemical Vendors|Curation Efforts|Governmental...</td>\n",
       "      <td>COVID-19, COVID19, Coronavirus, Corona-virus, ...</td>\n",
       "    </tr>\n",
       "    <tr>\n",
       "      <th>3</th>\n",
       "      <td>988</td>\n",
       "      <td>DL-Pantothenic acid</td>\n",
       "      <td>DL-Pantothenic acid|599-54-2|CHEBI:7916|3-[(2,...</td>\n",
       "      <td>219.23</td>\n",
       "      <td>C9H17NO5</td>\n",
       "      <td>107.0</td>\n",
       "      <td>239.0</td>\n",
       "      <td>-1.1</td>\n",
       "      <td>15</td>\n",
       "      <td>4</td>\n",
       "      <td>...</td>\n",
       "      <td>GHOKWGTUZJEAQD-UHFFFAOYSA-N</td>\n",
       "      <td>3-[(2,4-dihydroxy-3,3-dimethylbutanoyl)amino]p...</td>\n",
       "      <td>NaN</td>\n",
       "      <td>Biomolecular Interactions and Pathways|Classif...</td>\n",
       "      <td>7</td>\n",
       "      <td>NaN</td>\n",
       "      <td>20040916</td>\n",
       "      <td>001Chemical|3B Scientific (Wuhan) Corp|3WAY PH...</td>\n",
       "      <td>Chemical Vendors|Curation Efforts|Governmental...</td>\n",
       "      <td>NaN</td>\n",
       "    </tr>\n",
       "    <tr>\n",
       "      <th>4</th>\n",
       "      <td>1054</td>\n",
       "      <td>Pyridoxine</td>\n",
       "      <td>pyridoxine|65-23-6|vitamin B6|Pyridoxol|Gravid...</td>\n",
       "      <td>169.18</td>\n",
       "      <td>C8H11NO3</td>\n",
       "      <td>73.6</td>\n",
       "      <td>142.0</td>\n",
       "      <td>-0.8</td>\n",
       "      <td>12</td>\n",
       "      <td>3</td>\n",
       "      <td>...</td>\n",
       "      <td>LXNHXLLTXMVWPM-UHFFFAOYSA-N</td>\n",
       "      <td>4,5-bis(hydroxymethyl)-2-methylpyridin-3-ol</td>\n",
       "      <td>Pyridoxine</td>\n",
       "      <td>Biological Test Results|Biomolecular Interacti...</td>\n",
       "      <td>15</td>\n",
       "      <td>357|410|411|444|445|446|447|448|450|451|526|53...</td>\n",
       "      <td>20040916</td>\n",
       "      <td>001Chemical|3B Scientific (Wuhan) Corp|3WAY PH...</td>\n",
       "      <td>Chemical Vendors|Curation Efforts|Governmental...</td>\n",
       "      <td>COVID-19, COVID19, Coronavirus, Corona-virus, ...</td>\n",
       "    </tr>\n",
       "  </tbody>\n",
       "</table>\n",
       "<p>5 rows × 24 columns</p>\n",
       "</div>"
      ],
      "text/plain": [
       "    cid                                           cmpdname  \\\n",
       "0   298  2,2-dichloro-N-[1,3-dihydroxy-1-(4-nitrophenyl...   \n",
       "1   338                                     Salicylic acid   \n",
       "2   938                                     Nicotinic acid   \n",
       "3   988                                DL-Pantothenic acid   \n",
       "4  1054                                         Pyridoxine   \n",
       "\n",
       "                                         cmpdsynonym      mw             mf  \\\n",
       "0  2,2-dichloro-N-[1,3-dihydroxy-1-(4-nitrophenyl...  323.13  C11H12Cl2N2O5   \n",
       "1  salicylic acid|2-Hydroxybenzoic acid|69-72-7|o...  138.12         C7H6O3   \n",
       "2  nicotinic acid|niacin|59-67-6|Pyridine-3-carbo...  123.11        C6H5NO2   \n",
       "3  DL-Pantothenic acid|599-54-2|CHEBI:7916|3-[(2,...  219.23       C9H17NO5   \n",
       "4  pyridoxine|65-23-6|vitamin B6|Pyridoxol|Gravid...  169.18       C8H11NO3   \n",
       "\n",
       "   polararea  complexity  xlogp  heavycnt  hbonddonor  ...  \\\n",
       "0      115.0       342.0    1.1        20           3  ...   \n",
       "1       57.5       133.0    2.3        10           2  ...   \n",
       "2       50.2       114.0    0.4         9           1  ...   \n",
       "3      107.0       239.0   -1.1        15           4  ...   \n",
       "4       73.6       142.0   -0.8        12           3  ...   \n",
       "\n",
       "                      inchikey  \\\n",
       "0  WIIZWVCIJKGZOK-UHFFFAOYSA-N   \n",
       "1  YGSDEFSMJLZEOE-UHFFFAOYSA-N   \n",
       "2  PVNIIMVLHYAWGP-UHFFFAOYSA-N   \n",
       "3  GHOKWGTUZJEAQD-UHFFFAOYSA-N   \n",
       "4  LXNHXLLTXMVWPM-UHFFFAOYSA-N   \n",
       "\n",
       "                                           iupacname    meshheadings  \\\n",
       "0  2,2-dichloro-N-[1,3-dihydroxy-1-(4-nitrophenyl...             NaN   \n",
       "1                              2-hydroxybenzoic acid  Salicylic Acid   \n",
       "2                         pyridine-3-carboxylic acid          Niacin   \n",
       "3  3-[(2,4-dihydroxy-3,3-dimethylbutanoyl)amino]p...             NaN   \n",
       "4        4,5-bis(hydroxymethyl)-2-methylpyridin-3-ol      Pyridoxine   \n",
       "\n",
       "                                           annothits annothitcnt  \\\n",
       "0  Biological Test Results|Chemical and Physical ...          11   \n",
       "1  Biological Test Results|Biomolecular Interacti...          16   \n",
       "2  Biological Test Results|Biomolecular Interacti...          17   \n",
       "3  Biomolecular Interactions and Pathways|Classif...           7   \n",
       "4  Biological Test Results|Biomolecular Interacti...          15   \n",
       "\n",
       "                                                aids  cidcdate  \\\n",
       "0  155|157|175|248|256|328|485|631|731|757|758|75...  20050325   \n",
       "1  155|157|161|165|167|175|179|248|485|568|583|59...  20040916   \n",
       "2  192|248|357|410|411|444|445|446|447|448|450|45...  20040916   \n",
       "3                                                NaN  20040916   \n",
       "4  357|410|411|444|445|446|447|448|450|451|526|53...  20040916   \n",
       "\n",
       "                                          sidsrcname  \\\n",
       "0  001Chemical|AAA Chemistry|abcr GmbH|ABI Chem|A...   \n",
       "1  001Chemical|3B Scientific (Wuhan) Corp|3WAY PH...   \n",
       "2  001Chemical|3B Scientific (Wuhan) Corp|3WAY PH...   \n",
       "3  001Chemical|3B Scientific (Wuhan) Corp|3WAY PH...   \n",
       "4  001Chemical|3B Scientific (Wuhan) Corp|3WAY PH...   \n",
       "\n",
       "                                             depcatg  \\\n",
       "0  Chemical Vendors|Curation Efforts|Governmental...   \n",
       "1  Chemical Vendors|Curation Efforts|Governmental...   \n",
       "2  Chemical Vendors|Curation Efforts|Governmental...   \n",
       "3  Chemical Vendors|Curation Efforts|Governmental...   \n",
       "4  Chemical Vendors|Curation Efforts|Governmental...   \n",
       "\n",
       "                                          annotation  \n",
       "0                                                NaN  \n",
       "1                                                NaN  \n",
       "2  COVID-19, COVID19, Coronavirus, Corona-virus, ...  \n",
       "3                                                NaN  \n",
       "4  COVID-19, COVID19, Coronavirus, Corona-virus, ...  \n",
       "\n",
       "[5 rows x 24 columns]"
      ]
     },
     "execution_count": 12,
     "metadata": {},
     "output_type": "execute_result"
    }
   ],
   "source": [
    "df1.head(5)"
   ]
  },
  {
   "cell_type": "code",
   "execution_count": 13,
   "id": "b79cce2c",
   "metadata": {},
   "outputs": [
    {
     "data": {
      "text/plain": [
       "Index(['cid', 'cmpdname', 'cmpdsynonym', 'mw', 'mf', 'polararea', 'complexity',\n",
       "       'xlogp', 'heavycnt', 'hbonddonor', 'hbondacc', 'rotbonds', 'inchi',\n",
       "       'isosmiles', 'inchikey', 'iupacname', 'meshheadings', 'annothits',\n",
       "       'annothitcnt', 'aids', 'cidcdate', 'sidsrcname', 'depcatg',\n",
       "       'annotation'],\n",
       "      dtype='object')"
      ]
     },
     "execution_count": 13,
     "metadata": {},
     "output_type": "execute_result"
    }
   ],
   "source": [
    "df1.columns"
   ]
  },
  {
   "cell_type": "code",
   "execution_count": 14,
   "id": "48edc13e",
   "metadata": {},
   "outputs": [],
   "source": [
    "df2=pd.read_csv('/Users/promilasharan/downloads/S2.csv')"
   ]
  },
  {
   "cell_type": "code",
   "execution_count": 15,
   "id": "bc6e47c8",
   "metadata": {
    "scrolled": false
   },
   "outputs": [
    {
     "data": {
      "text/html": [
       "<div>\n",
       "<style scoped>\n",
       "    .dataframe tbody tr th:only-of-type {\n",
       "        vertical-align: middle;\n",
       "    }\n",
       "\n",
       "    .dataframe tbody tr th {\n",
       "        vertical-align: top;\n",
       "    }\n",
       "\n",
       "    .dataframe thead th {\n",
       "        text-align: right;\n",
       "    }\n",
       "</style>\n",
       "<table border=\"1\" class=\"dataframe\">\n",
       "  <thead>\n",
       "    <tr style=\"text-align: right;\">\n",
       "      <th></th>\n",
       "      <th>cid</th>\n",
       "      <th>cmpdname</th>\n",
       "      <th>cmpdsynonym</th>\n",
       "      <th>mw</th>\n",
       "      <th>mf</th>\n",
       "      <th>polararea</th>\n",
       "      <th>complexity</th>\n",
       "      <th>xlogp</th>\n",
       "      <th>heavycnt</th>\n",
       "      <th>hbonddonor</th>\n",
       "      <th>...</th>\n",
       "      <th>inchikey</th>\n",
       "      <th>iupacname</th>\n",
       "      <th>meshheadings</th>\n",
       "      <th>annothits</th>\n",
       "      <th>annothitcnt</th>\n",
       "      <th>aids</th>\n",
       "      <th>cidcdate</th>\n",
       "      <th>sidsrcname</th>\n",
       "      <th>depcatg</th>\n",
       "      <th>annotation</th>\n",
       "    </tr>\n",
       "  </thead>\n",
       "  <tbody>\n",
       "    <tr>\n",
       "      <th>0</th>\n",
       "      <td>247</td>\n",
       "      <td>Betaine</td>\n",
       "      <td>betaine|107-43-7|glycine betaine|oxyneurine|ly...</td>\n",
       "      <td>117.15</td>\n",
       "      <td>C5H11NO2</td>\n",
       "      <td>40.1</td>\n",
       "      <td>87.6</td>\n",
       "      <td>0.5</td>\n",
       "      <td>8</td>\n",
       "      <td>0</td>\n",
       "      <td>...</td>\n",
       "      <td>KWIUHFFTVRNATP-UHFFFAOYSA-N</td>\n",
       "      <td>2-(trimethylazaniumyl)acetate</td>\n",
       "      <td>Betaine</td>\n",
       "      <td>Biological Test Results|Biomolecular Interacti...</td>\n",
       "      <td>15</td>\n",
       "      <td>192|248|608|1033|1195|1549|1552|1637|1648|7104...</td>\n",
       "      <td>20040916</td>\n",
       "      <td>001Chemical|3B Scientific (Wuhan) Corp|3WAY PH...</td>\n",
       "      <td>Chemical Vendors|Curation Efforts|Governmental...</td>\n",
       "      <td>NaN</td>\n",
       "    </tr>\n",
       "    <tr>\n",
       "      <th>1</th>\n",
       "      <td>453</td>\n",
       "      <td>Hexitol</td>\n",
       "      <td>Hexitol|hexane-1,2,3,4,5,6-hexaol|hexane-1,2,3...</td>\n",
       "      <td>182.17</td>\n",
       "      <td>C6H14O6</td>\n",
       "      <td>121.0</td>\n",
       "      <td>105.0</td>\n",
       "      <td>-3.1</td>\n",
       "      <td>12</td>\n",
       "      <td>6</td>\n",
       "      <td>...</td>\n",
       "      <td>FBPFZTCFMRRESA-UHFFFAOYSA-N</td>\n",
       "      <td>hexane-1,2,3,4,5,6-hexol</td>\n",
       "      <td>NaN</td>\n",
       "      <td>Biological Test Results|Classification|Literat...</td>\n",
       "      <td>7</td>\n",
       "      <td>155|157|161|165|167|175|188|200|208|214|220|24...</td>\n",
       "      <td>20050325</td>\n",
       "      <td>001Chemical|3B Scientific (Wuhan) Corp|3WAY PH...</td>\n",
       "      <td>Chemical Vendors|Curation Efforts|Governmental...</td>\n",
       "      <td>NaN</td>\n",
       "    </tr>\n",
       "    <tr>\n",
       "      <th>2</th>\n",
       "      <td>679</td>\n",
       "      <td>Dimethyl sulfoxide</td>\n",
       "      <td>dimethyl sulfoxide|DMSO|67-68-5|Methyl sulfoxi...</td>\n",
       "      <td>78.14</td>\n",
       "      <td>C2H6OS</td>\n",
       "      <td>36.3</td>\n",
       "      <td>29.0</td>\n",
       "      <td>-0.6</td>\n",
       "      <td>4</td>\n",
       "      <td>0</td>\n",
       "      <td>...</td>\n",
       "      <td>IAZDPXIOMUYVGZ-UHFFFAOYSA-N</td>\n",
       "      <td>methylsulfinylmethane</td>\n",
       "      <td>Dimethyl Sulfoxide</td>\n",
       "      <td>Biological Test Results|Biomolecular Interacti...</td>\n",
       "      <td>16</td>\n",
       "      <td>179|180|186|192|194|196|206|212|220|222|226|24...</td>\n",
       "      <td>20040916</td>\n",
       "      <td>001Chemical|3B Scientific (Wuhan) Corp|3WAY PH...</td>\n",
       "      <td>Chemical Vendors|Curation Efforts|Governmental...</td>\n",
       "      <td>NaN</td>\n",
       "    </tr>\n",
       "    <tr>\n",
       "      <th>3</th>\n",
       "      <td>681</td>\n",
       "      <td>Dopamine</td>\n",
       "      <td>dopamine|4-(2-Aminoethyl)benzene-1,2-diol|3-Hy...</td>\n",
       "      <td>153.18</td>\n",
       "      <td>C8H11NO2</td>\n",
       "      <td>66.5</td>\n",
       "      <td>119.0</td>\n",
       "      <td>-1.0</td>\n",
       "      <td>11</td>\n",
       "      <td>3</td>\n",
       "      <td>...</td>\n",
       "      <td>VYFYYTLLBUKUHU-UHFFFAOYSA-N</td>\n",
       "      <td>4-(2-aminoethyl)benzene-1,2-diol</td>\n",
       "      <td>Dopamine</td>\n",
       "      <td>Biological Test Results|Biomolecular Interacti...</td>\n",
       "      <td>16</td>\n",
       "      <td>200|256|357|410|411|444|445|446|447|448|450|45...</td>\n",
       "      <td>20040916</td>\n",
       "      <td>001Chemical|3B Scientific (Wuhan) Corp|3WAY PH...</td>\n",
       "      <td>Chemical Vendors|Curation Efforts|Governmental...</td>\n",
       "      <td>NaN</td>\n",
       "    </tr>\n",
       "    <tr>\n",
       "      <th>4</th>\n",
       "      <td>1923</td>\n",
       "      <td>8-Hydroxyquinoline</td>\n",
       "      <td>8-HYDROXYQUINOLINE|quinolin-8-ol|8-quinolinol|...</td>\n",
       "      <td>145.16</td>\n",
       "      <td>C9H7NO</td>\n",
       "      <td>33.1</td>\n",
       "      <td>138.0</td>\n",
       "      <td>2.0</td>\n",
       "      <td>11</td>\n",
       "      <td>1</td>\n",
       "      <td>...</td>\n",
       "      <td>MCJGNVYPOGVAJF-UHFFFAOYSA-N</td>\n",
       "      <td>quinolin-8-ol</td>\n",
       "      <td>Oxyquinoline</td>\n",
       "      <td>Agrochemical Information|Biological Test Resul...</td>\n",
       "      <td>16</td>\n",
       "      <td>1|3|5|7|9|11|13|15|17|19|21|23|25|27|29|31|33|...</td>\n",
       "      <td>20050325</td>\n",
       "      <td>001Chemical|3B Scientific (Wuhan) Corp|3WAY PH...</td>\n",
       "      <td>Chemical Vendors|Curation Efforts|Governmental...</td>\n",
       "      <td>NaN</td>\n",
       "    </tr>\n",
       "  </tbody>\n",
       "</table>\n",
       "<p>5 rows × 24 columns</p>\n",
       "</div>"
      ],
      "text/plain": [
       "    cid            cmpdname  \\\n",
       "0   247             Betaine   \n",
       "1   453             Hexitol   \n",
       "2   679  Dimethyl sulfoxide   \n",
       "3   681            Dopamine   \n",
       "4  1923  8-Hydroxyquinoline   \n",
       "\n",
       "                                         cmpdsynonym      mw        mf  \\\n",
       "0  betaine|107-43-7|glycine betaine|oxyneurine|ly...  117.15  C5H11NO2   \n",
       "1  Hexitol|hexane-1,2,3,4,5,6-hexaol|hexane-1,2,3...  182.17   C6H14O6   \n",
       "2  dimethyl sulfoxide|DMSO|67-68-5|Methyl sulfoxi...   78.14    C2H6OS   \n",
       "3  dopamine|4-(2-Aminoethyl)benzene-1,2-diol|3-Hy...  153.18  C8H11NO2   \n",
       "4  8-HYDROXYQUINOLINE|quinolin-8-ol|8-quinolinol|...  145.16    C9H7NO   \n",
       "\n",
       "   polararea  complexity  xlogp  heavycnt  hbonddonor  ...  \\\n",
       "0       40.1        87.6    0.5         8           0  ...   \n",
       "1      121.0       105.0   -3.1        12           6  ...   \n",
       "2       36.3        29.0   -0.6         4           0  ...   \n",
       "3       66.5       119.0   -1.0        11           3  ...   \n",
       "4       33.1       138.0    2.0        11           1  ...   \n",
       "\n",
       "                      inchikey                         iupacname  \\\n",
       "0  KWIUHFFTVRNATP-UHFFFAOYSA-N     2-(trimethylazaniumyl)acetate   \n",
       "1  FBPFZTCFMRRESA-UHFFFAOYSA-N          hexane-1,2,3,4,5,6-hexol   \n",
       "2  IAZDPXIOMUYVGZ-UHFFFAOYSA-N             methylsulfinylmethane   \n",
       "3  VYFYYTLLBUKUHU-UHFFFAOYSA-N  4-(2-aminoethyl)benzene-1,2-diol   \n",
       "4  MCJGNVYPOGVAJF-UHFFFAOYSA-N                     quinolin-8-ol   \n",
       "\n",
       "         meshheadings                                          annothits  \\\n",
       "0             Betaine  Biological Test Results|Biomolecular Interacti...   \n",
       "1                 NaN  Biological Test Results|Classification|Literat...   \n",
       "2  Dimethyl Sulfoxide  Biological Test Results|Biomolecular Interacti...   \n",
       "3            Dopamine  Biological Test Results|Biomolecular Interacti...   \n",
       "4        Oxyquinoline  Agrochemical Information|Biological Test Resul...   \n",
       "\n",
       "  annothitcnt                                               aids  cidcdate  \\\n",
       "0          15  192|248|608|1033|1195|1549|1552|1637|1648|7104...  20040916   \n",
       "1           7  155|157|161|165|167|175|188|200|208|214|220|24...  20050325   \n",
       "2          16  179|180|186|192|194|196|206|212|220|222|226|24...  20040916   \n",
       "3          16  200|256|357|410|411|444|445|446|447|448|450|45...  20040916   \n",
       "4          16  1|3|5|7|9|11|13|15|17|19|21|23|25|27|29|31|33|...  20050325   \n",
       "\n",
       "                                          sidsrcname  \\\n",
       "0  001Chemical|3B Scientific (Wuhan) Corp|3WAY PH...   \n",
       "1  001Chemical|3B Scientific (Wuhan) Corp|3WAY PH...   \n",
       "2  001Chemical|3B Scientific (Wuhan) Corp|3WAY PH...   \n",
       "3  001Chemical|3B Scientific (Wuhan) Corp|3WAY PH...   \n",
       "4  001Chemical|3B Scientific (Wuhan) Corp|3WAY PH...   \n",
       "\n",
       "                                             depcatg annotation  \n",
       "0  Chemical Vendors|Curation Efforts|Governmental...        NaN  \n",
       "1  Chemical Vendors|Curation Efforts|Governmental...        NaN  \n",
       "2  Chemical Vendors|Curation Efforts|Governmental...        NaN  \n",
       "3  Chemical Vendors|Curation Efforts|Governmental...        NaN  \n",
       "4  Chemical Vendors|Curation Efforts|Governmental...        NaN  \n",
       "\n",
       "[5 rows x 24 columns]"
      ]
     },
     "execution_count": 15,
     "metadata": {},
     "output_type": "execute_result"
    }
   ],
   "source": [
    "df2.head(5)"
   ]
  },
  {
   "cell_type": "code",
   "execution_count": 16,
   "id": "6a27f6ce",
   "metadata": {},
   "outputs": [
    {
     "data": {
      "text/plain": [
       "((193, 24), (184, 24))"
      ]
     },
     "execution_count": 16,
     "metadata": {},
     "output_type": "execute_result"
    }
   ],
   "source": [
    "df1.shape, df2.shape"
   ]
  },
  {
   "cell_type": "code",
   "execution_count": 17,
   "id": "83f67888",
   "metadata": {},
   "outputs": [],
   "source": [
    "S1=S1.rename(columns={\"PubChem\":\"cid\"})\n",
    "#as in df2, df3 we have cid as chemical ids so for further concatenation purposes we must align it with other two dfs"
   ]
  },
  {
   "cell_type": "code",
   "execution_count": 18,
   "id": "4d3b9577",
   "metadata": {},
   "outputs": [
    {
     "data": {
      "text/html": [
       "<div>\n",
       "<style scoped>\n",
       "    .dataframe tbody tr th:only-of-type {\n",
       "        vertical-align: middle;\n",
       "    }\n",
       "\n",
       "    .dataframe tbody tr th {\n",
       "        vertical-align: top;\n",
       "    }\n",
       "\n",
       "    .dataframe thead th {\n",
       "        text-align: right;\n",
       "    }\n",
       "</style>\n",
       "<table border=\"1\" class=\"dataframe\">\n",
       "  <thead>\n",
       "    <tr style=\"text-align: right;\">\n",
       "      <th></th>\n",
       "      <th>cid</th>\n",
       "      <th>CompoundName</th>\n",
       "      <th>Drug label-based annotation</th>\n",
       "    </tr>\n",
       "  </thead>\n",
       "  <tbody>\n",
       "    <tr>\n",
       "      <th>0</th>\n",
       "      <td>3474</td>\n",
       "      <td>glafenine</td>\n",
       "      <td>Most DILI-concern</td>\n",
       "    </tr>\n",
       "    <tr>\n",
       "      <th>1</th>\n",
       "      <td>2478</td>\n",
       "      <td>busulfan</td>\n",
       "      <td>Most DILI-concern</td>\n",
       "    </tr>\n",
       "    <tr>\n",
       "      <th>2</th>\n",
       "      <td>2520</td>\n",
       "      <td>verapamil</td>\n",
       "      <td>Most DILI-concern</td>\n",
       "    </tr>\n",
       "    <tr>\n",
       "      <th>3</th>\n",
       "      <td>2662</td>\n",
       "      <td>celecoxib</td>\n",
       "      <td>Most DILI-concern</td>\n",
       "    </tr>\n",
       "    <tr>\n",
       "      <th>4</th>\n",
       "      <td>2898</td>\n",
       "      <td>cyclofenil</td>\n",
       "      <td>Most DILI-concern</td>\n",
       "    </tr>\n",
       "  </tbody>\n",
       "</table>\n",
       "</div>"
      ],
      "text/plain": [
       "    cid CompoundName Drug label-based annotation\n",
       "0  3474    glafenine           Most DILI-concern\n",
       "1  2478     busulfan           Most DILI-concern\n",
       "2  2520    verapamil           Most DILI-concern\n",
       "3  2662    celecoxib           Most DILI-concern\n",
       "4  2898   cyclofenil           Most DILI-concern"
      ]
     },
     "execution_count": 18,
     "metadata": {},
     "output_type": "execute_result"
    }
   ],
   "source": [
    "S1.head()"
   ]
  },
  {
   "cell_type": "code",
   "execution_count": 19,
   "id": "8d317c9c",
   "metadata": {},
   "outputs": [
    {
     "data": {
      "text/html": [
       "<div>\n",
       "<style scoped>\n",
       "    .dataframe tbody tr th:only-of-type {\n",
       "        vertical-align: middle;\n",
       "    }\n",
       "\n",
       "    .dataframe tbody tr th {\n",
       "        vertical-align: top;\n",
       "    }\n",
       "\n",
       "    .dataframe thead th {\n",
       "        text-align: right;\n",
       "    }\n",
       "</style>\n",
       "<table border=\"1\" class=\"dataframe\">\n",
       "  <thead>\n",
       "    <tr style=\"text-align: right;\">\n",
       "      <th></th>\n",
       "      <th>cid</th>\n",
       "      <th>CompoundName</th>\n",
       "      <th>Drug label-based annotation</th>\n",
       "      <th>QSAR Prediction</th>\n",
       "    </tr>\n",
       "  </thead>\n",
       "  <tbody>\n",
       "    <tr>\n",
       "      <th>0</th>\n",
       "      <td>28417</td>\n",
       "      <td>danazol</td>\n",
       "      <td>Most DILI-concern</td>\n",
       "      <td>0</td>\n",
       "    </tr>\n",
       "    <tr>\n",
       "      <th>1</th>\n",
       "      <td>65027</td>\n",
       "      <td>tipranavir</td>\n",
       "      <td>Most DILI-concern</td>\n",
       "      <td>1</td>\n",
       "    </tr>\n",
       "    <tr>\n",
       "      <th>2</th>\n",
       "      <td>50599</td>\n",
       "      <td>didanosine</td>\n",
       "      <td>Most DILI-concern</td>\n",
       "      <td>1</td>\n",
       "    </tr>\n",
       "    <tr>\n",
       "      <th>3</th>\n",
       "      <td>18283</td>\n",
       "      <td>stavudine</td>\n",
       "      <td>Most DILI-concern</td>\n",
       "      <td>1</td>\n",
       "    </tr>\n",
       "    <tr>\n",
       "      <th>4</th>\n",
       "      <td>60825</td>\n",
       "      <td>lamivudine</td>\n",
       "      <td>Most DILI-concern</td>\n",
       "      <td>1</td>\n",
       "    </tr>\n",
       "  </tbody>\n",
       "</table>\n",
       "</div>"
      ],
      "text/plain": [
       "     cid CompoundName Drug label-based annotation  QSAR Prediction\n",
       "0  28417      danazol           Most DILI-concern                0\n",
       "1  65027   tipranavir           Most DILI-concern                1\n",
       "2  50599   didanosine           Most DILI-concern                1\n",
       "3  18283    stavudine           Most DILI-concern                1\n",
       "4  60825   lamivudine           Most DILI-concern                1"
      ]
     },
     "execution_count": 19,
     "metadata": {},
     "output_type": "execute_result"
    }
   ],
   "source": [
    "S2=S2.rename(columns={\"PubChem\":\"cid\"})\n",
    "S2.head(5)"
   ]
  },
  {
   "cell_type": "code",
   "execution_count": 20,
   "id": "ec4f1fc6",
   "metadata": {},
   "outputs": [],
   "source": [
    "df1=df1[[\"cid\", \"isosmiles\"]]"
   ]
  },
  {
   "cell_type": "code",
   "execution_count": 21,
   "id": "dd20e241",
   "metadata": {},
   "outputs": [],
   "source": [
    "df2=df2[[\"cid\", \"isosmiles\"]]"
   ]
  },
  {
   "cell_type": "code",
   "execution_count": 22,
   "id": "454309bb",
   "metadata": {},
   "outputs": [],
   "source": [
    "combined=pd.concat([df1, df2], axis=0)"
   ]
  },
  {
   "cell_type": "code",
   "execution_count": 23,
   "id": "ac5b2f88",
   "metadata": {},
   "outputs": [
    {
     "data": {
      "text/html": [
       "<div>\n",
       "<style scoped>\n",
       "    .dataframe tbody tr th:only-of-type {\n",
       "        vertical-align: middle;\n",
       "    }\n",
       "\n",
       "    .dataframe tbody tr th {\n",
       "        vertical-align: top;\n",
       "    }\n",
       "\n",
       "    .dataframe thead th {\n",
       "        text-align: right;\n",
       "    }\n",
       "</style>\n",
       "<table border=\"1\" class=\"dataframe\">\n",
       "  <thead>\n",
       "    <tr style=\"text-align: right;\">\n",
       "      <th></th>\n",
       "      <th>cid</th>\n",
       "      <th>isosmiles</th>\n",
       "    </tr>\n",
       "  </thead>\n",
       "  <tbody>\n",
       "    <tr>\n",
       "      <th>0</th>\n",
       "      <td>298</td>\n",
       "      <td>C1=CC(=CC=C1C(C(CO)NC(=O)C(Cl)Cl)O)[N+](=O)[O-]</td>\n",
       "    </tr>\n",
       "    <tr>\n",
       "      <th>1</th>\n",
       "      <td>338</td>\n",
       "      <td>C1=CC=C(C(=C1)C(=O)O)O</td>\n",
       "    </tr>\n",
       "    <tr>\n",
       "      <th>2</th>\n",
       "      <td>938</td>\n",
       "      <td>C1=CC(=CN=C1)C(=O)O</td>\n",
       "    </tr>\n",
       "    <tr>\n",
       "      <th>3</th>\n",
       "      <td>988</td>\n",
       "      <td>CC(C)(CO)C(C(=O)NCCC(=O)O)O</td>\n",
       "    </tr>\n",
       "    <tr>\n",
       "      <th>4</th>\n",
       "      <td>1054</td>\n",
       "      <td>CC1=NC=C(C(=C1O)CO)CO</td>\n",
       "    </tr>\n",
       "  </tbody>\n",
       "</table>\n",
       "</div>"
      ],
      "text/plain": [
       "    cid                                        isosmiles\n",
       "0   298  C1=CC(=CC=C1C(C(CO)NC(=O)C(Cl)Cl)O)[N+](=O)[O-]\n",
       "1   338                           C1=CC=C(C(=C1)C(=O)O)O\n",
       "2   938                              C1=CC(=CN=C1)C(=O)O\n",
       "3   988                      CC(C)(CO)C(C(=O)NCCC(=O)O)O\n",
       "4  1054                            CC1=NC=C(C(=C1O)CO)CO"
      ]
     },
     "execution_count": 23,
     "metadata": {},
     "output_type": "execute_result"
    }
   ],
   "source": [
    "combined.head(5)"
   ]
  },
  {
   "cell_type": "code",
   "execution_count": 24,
   "id": "318ee794",
   "metadata": {},
   "outputs": [
    {
     "data": {
      "text/plain": [
       "(377, 2)"
      ]
     },
     "execution_count": 24,
     "metadata": {},
     "output_type": "execute_result"
    }
   ],
   "source": [
    "combined.shape"
   ]
  },
  {
   "cell_type": "code",
   "execution_count": 25,
   "id": "174c1543",
   "metadata": {},
   "outputs": [],
   "source": [
    "newdata_S1=pd.merge(S1, df1, on =\"cid\")"
   ]
  },
  {
   "cell_type": "code",
   "execution_count": 26,
   "id": "c3ac5cb7",
   "metadata": {},
   "outputs": [
    {
     "data": {
      "text/plain": [
       "(193, 4)"
      ]
     },
     "execution_count": 26,
     "metadata": {},
     "output_type": "execute_result"
    }
   ],
   "source": [
    "newdata_S1.shape"
   ]
  },
  {
   "cell_type": "code",
   "execution_count": 27,
   "id": "45958dc3",
   "metadata": {},
   "outputs": [],
   "source": [
    "newdata_S2=pd.merge(S2, df2, on =\"cid\")"
   ]
  },
  {
   "cell_type": "code",
   "execution_count": 28,
   "id": "c6aa8ddd",
   "metadata": {},
   "outputs": [
    {
     "data": {
      "text/plain": [
       "(184, 5)"
      ]
     },
     "execution_count": 28,
     "metadata": {},
     "output_type": "execute_result"
    }
   ],
   "source": [
    "newdata_S2.shape"
   ]
  },
  {
   "cell_type": "code",
   "execution_count": 29,
   "id": "f4515aed",
   "metadata": {},
   "outputs": [
    {
     "data": {
      "text/plain": [
       "Index(['cid', 'CompoundName', 'Drug label-based annotation', 'QSAR Prediction',\n",
       "       'isosmiles'],\n",
       "      dtype='object')"
      ]
     },
     "execution_count": 29,
     "metadata": {},
     "output_type": "execute_result"
    }
   ],
   "source": [
    "newdata_S2.columns"
   ]
  },
  {
   "cell_type": "code",
   "execution_count": 30,
   "id": "6cbaf8eb",
   "metadata": {},
   "outputs": [
    {
     "data": {
      "text/plain": [
       "no DILI-concern      116\n",
       "Most DILI-concern     77\n",
       "Name: Drug label-based annotation, dtype: int64"
      ]
     },
     "execution_count": 30,
     "metadata": {},
     "output_type": "execute_result"
    }
   ],
   "source": [
    "newdata_S1[\"Drug label-based annotation\"].value_counts()"
   ]
  },
  {
   "cell_type": "code",
   "execution_count": 31,
   "id": "b7d911b1",
   "metadata": {},
   "outputs": [
    {
     "data": {
      "text/plain": [
       "no DILI-concern      93\n",
       "Most DILI-concern    91\n",
       "Name: Drug label-based annotation, dtype: int64"
      ]
     },
     "execution_count": 31,
     "metadata": {},
     "output_type": "execute_result"
    }
   ],
   "source": [
    "newdata_S2[\"Drug label-based annotation\"].value_counts()"
   ]
  },
  {
   "cell_type": "code",
   "execution_count": 32,
   "id": "2595e1c3",
   "metadata": {},
   "outputs": [],
   "source": [
    "combined=pd.concat([newdata_S1,newdata_S2], axis=0)"
   ]
  },
  {
   "cell_type": "code",
   "execution_count": 33,
   "id": "1e9f1a89",
   "metadata": {},
   "outputs": [
    {
     "data": {
      "text/html": [
       "<div>\n",
       "<style scoped>\n",
       "    .dataframe tbody tr th:only-of-type {\n",
       "        vertical-align: middle;\n",
       "    }\n",
       "\n",
       "    .dataframe tbody tr th {\n",
       "        vertical-align: top;\n",
       "    }\n",
       "\n",
       "    .dataframe thead th {\n",
       "        text-align: right;\n",
       "    }\n",
       "</style>\n",
       "<table border=\"1\" class=\"dataframe\">\n",
       "  <thead>\n",
       "    <tr style=\"text-align: right;\">\n",
       "      <th></th>\n",
       "      <th>cid</th>\n",
       "      <th>CompoundName</th>\n",
       "      <th>Drug label-based annotation</th>\n",
       "      <th>isosmiles</th>\n",
       "      <th>QSAR Prediction</th>\n",
       "    </tr>\n",
       "  </thead>\n",
       "  <tbody>\n",
       "    <tr>\n",
       "      <th>0</th>\n",
       "      <td>3474</td>\n",
       "      <td>glafenine</td>\n",
       "      <td>Most DILI-concern</td>\n",
       "      <td>C1=CC=C(C(=C1)C(=O)OCC(CO)O)NC2=C3C=CC(=CC3=NC...</td>\n",
       "      <td>NaN</td>\n",
       "    </tr>\n",
       "    <tr>\n",
       "      <th>1</th>\n",
       "      <td>2478</td>\n",
       "      <td>busulfan</td>\n",
       "      <td>Most DILI-concern</td>\n",
       "      <td>CS(=O)(=O)OCCCCOS(=O)(=O)C</td>\n",
       "      <td>NaN</td>\n",
       "    </tr>\n",
       "    <tr>\n",
       "      <th>2</th>\n",
       "      <td>2520</td>\n",
       "      <td>verapamil</td>\n",
       "      <td>Most DILI-concern</td>\n",
       "      <td>CC(C)C(CCCN(C)CCC1=CC(=C(C=C1)OC)OC)(C#N)C2=CC...</td>\n",
       "      <td>NaN</td>\n",
       "    </tr>\n",
       "    <tr>\n",
       "      <th>3</th>\n",
       "      <td>2662</td>\n",
       "      <td>celecoxib</td>\n",
       "      <td>Most DILI-concern</td>\n",
       "      <td>CC1=CC=C(C=C1)C2=CC(=NN2C3=CC=C(C=C3)S(=O)(=O)...</td>\n",
       "      <td>NaN</td>\n",
       "    </tr>\n",
       "    <tr>\n",
       "      <th>4</th>\n",
       "      <td>2898</td>\n",
       "      <td>cyclofenil</td>\n",
       "      <td>Most DILI-concern</td>\n",
       "      <td>CC(=O)OC1=CC=C(C=C1)C(=C2CCCCC2)C3=CC=C(C=C3)O...</td>\n",
       "      <td>NaN</td>\n",
       "    </tr>\n",
       "  </tbody>\n",
       "</table>\n",
       "</div>"
      ],
      "text/plain": [
       "    cid CompoundName Drug label-based annotation  \\\n",
       "0  3474    glafenine           Most DILI-concern   \n",
       "1  2478     busulfan           Most DILI-concern   \n",
       "2  2520    verapamil           Most DILI-concern   \n",
       "3  2662    celecoxib           Most DILI-concern   \n",
       "4  2898   cyclofenil           Most DILI-concern   \n",
       "\n",
       "                                           isosmiles  QSAR Prediction  \n",
       "0  C1=CC=C(C(=C1)C(=O)OCC(CO)O)NC2=C3C=CC(=CC3=NC...              NaN  \n",
       "1                         CS(=O)(=O)OCCCCOS(=O)(=O)C              NaN  \n",
       "2  CC(C)C(CCCN(C)CCC1=CC(=C(C=C1)OC)OC)(C#N)C2=CC...              NaN  \n",
       "3  CC1=CC=C(C=C1)C2=CC(=NN2C3=CC=C(C=C3)S(=O)(=O)...              NaN  \n",
       "4  CC(=O)OC1=CC=C(C=C1)C(=C2CCCCC2)C3=CC=C(C=C3)O...              NaN  "
      ]
     },
     "execution_count": 33,
     "metadata": {},
     "output_type": "execute_result"
    }
   ],
   "source": [
    "combined.head()"
   ]
  },
  {
   "cell_type": "code",
   "execution_count": 34,
   "id": "fd5bd6c9",
   "metadata": {},
   "outputs": [
    {
     "data": {
      "text/plain": [
       "(377, 5)"
      ]
     },
     "execution_count": 34,
     "metadata": {},
     "output_type": "execute_result"
    }
   ],
   "source": [
    "combined.shape"
   ]
  },
  {
   "cell_type": "code",
   "execution_count": 35,
   "id": "f3e39d96",
   "metadata": {},
   "outputs": [],
   "source": [
    "combined.to_csv(\"DILI-dataset.csv\", index=None)"
   ]
  },
  {
   "cell_type": "code",
   "execution_count": 36,
   "id": "e1af0e4b",
   "metadata": {},
   "outputs": [],
   "source": [
    "DILI_active=combined[combined[\"Drug label-based annotation\"].str.contains(\"Most DILI-concern\")]"
   ]
  },
  {
   "cell_type": "code",
   "execution_count": 37,
   "id": "6e55213d",
   "metadata": {},
   "outputs": [
    {
     "data": {
      "text/plain": [
       "(168, 5)"
      ]
     },
     "execution_count": 37,
     "metadata": {},
     "output_type": "execute_result"
    }
   ],
   "source": [
    "DILI_active.shape"
   ]
  },
  {
   "cell_type": "code",
   "execution_count": 38,
   "id": "4c35aa20",
   "metadata": {},
   "outputs": [],
   "source": [
    "DILI_inactive=combined[combined[\"Drug label-based annotation\"].str.contains(\"no DILI-concern\")]"
   ]
  },
  {
   "cell_type": "code",
   "execution_count": 39,
   "id": "8b35cb07",
   "metadata": {},
   "outputs": [
    {
     "data": {
      "text/plain": [
       "(209, 5)"
      ]
     },
     "execution_count": 39,
     "metadata": {},
     "output_type": "execute_result"
    }
   ],
   "source": [
    "DILI_inactive.shape"
   ]
  },
  {
   "cell_type": "code",
   "execution_count": 40,
   "id": "3e1effa9",
   "metadata": {},
   "outputs": [
    {
     "name": "stderr",
     "output_type": "stream",
     "text": [
      "/Users/promilasharan/opt/anaconda3/envs/uresearcher/lib/python3.7/site-packages/ipykernel_launcher.py:1: SettingWithCopyWarning: \n",
      "A value is trying to be set on a copy of a slice from a DataFrame.\n",
      "Try using .loc[row_indexer,col_indexer] = value instead\n",
      "\n",
      "See the caveats in the documentation: https://pandas.pydata.org/pandas-docs/stable/user_guide/indexing.html#returning-a-view-versus-a-copy\n",
      "  \"\"\"Entry point for launching an IPython kernel.\n",
      "/Users/promilasharan/opt/anaconda3/envs/uresearcher/lib/python3.7/site-packages/ipykernel_launcher.py:2: SettingWithCopyWarning: \n",
      "A value is trying to be set on a copy of a slice from a DataFrame.\n",
      "Try using .loc[row_indexer,col_indexer] = value instead\n",
      "\n",
      "See the caveats in the documentation: https://pandas.pydata.org/pandas-docs/stable/user_guide/indexing.html#returning-a-view-versus-a-copy\n",
      "  \n"
     ]
    }
   ],
   "source": [
    "DILI_active[\"label\"]=1\n",
    "DILI_inactive[\"label\"]=0"
   ]
  },
  {
   "cell_type": "code",
   "execution_count": 41,
   "id": "653386f5",
   "metadata": {},
   "outputs": [],
   "source": [
    "DILI=pd.concat([DILI_active,DILI_inactive], axis=0)"
   ]
  },
  {
   "cell_type": "code",
   "execution_count": 42,
   "id": "f32686ed",
   "metadata": {},
   "outputs": [],
   "source": [
    "DILI[[\"isosmiles\", \"label\"]].to_csv(\"DILI_labelled.smi\", header=None, sep=\"\\t\", index=None)"
   ]
  },
  {
   "cell_type": "markdown",
   "id": "255a24f4",
   "metadata": {},
   "source": [
    "# as we are taking into consideration the liver toxicity of drugs so we can generate descriptors corresponding to physicochemical properties"
   ]
  },
  {
   "cell_type": "code",
   "execution_count": 43,
   "id": "f0a1534b",
   "metadata": {},
   "outputs": [],
   "source": [
    "#Morgan fingerprints\n",
    "smi=[Chem.MolFromSmiles (mol) for mol in DILI[\"isosmiles\"].iloc[0:] if mol is not None]"
   ]
  },
  {
   "cell_type": "code",
   "execution_count": 44,
   "id": "47c4a1f9",
   "metadata": {},
   "outputs": [
    {
     "data": {
      "text/plain": [
       "[<rdkit.Chem.rdchem.Mol at 0x7f8848b52ad0>,\n",
       " <rdkit.Chem.rdchem.Mol at 0x7f8848b82620>,\n",
       " <rdkit.Chem.rdchem.Mol at 0x7f8848b82940>,\n",
       " <rdkit.Chem.rdchem.Mol at 0x7f8848b827b0>,\n",
       " <rdkit.Chem.rdchem.Mol at 0x7f8848b823a0>,\n",
       " <rdkit.Chem.rdchem.Mol at 0x7f8848b82760>,\n",
       " <rdkit.Chem.rdchem.Mol at 0x7f8848c43a80>,\n",
       " <rdkit.Chem.rdchem.Mol at 0x7f8848c43b20>,\n",
       " <rdkit.Chem.rdchem.Mol at 0x7f8848c43bc0>,\n",
       " <rdkit.Chem.rdchem.Mol at 0x7f8848bec4e0>,\n",
       " <rdkit.Chem.rdchem.Mol at 0x7f8848bec0d0>,\n",
       " <rdkit.Chem.rdchem.Mol at 0x7f8848becc60>,\n",
       " <rdkit.Chem.rdchem.Mol at 0x7f8848b5e3f0>,\n",
       " <rdkit.Chem.rdchem.Mol at 0x7f8848b55120>,\n",
       " <rdkit.Chem.rdchem.Mol at 0x7f8848b55df0>,\n",
       " <rdkit.Chem.rdchem.Mol at 0x7f8848b55670>,\n",
       " <rdkit.Chem.rdchem.Mol at 0x7f8848b55e40>,\n",
       " <rdkit.Chem.rdchem.Mol at 0x7f8848b55e90>,\n",
       " <rdkit.Chem.rdchem.Mol at 0x7f8848b55ee0>,\n",
       " <rdkit.Chem.rdchem.Mol at 0x7f8848b55f30>,\n",
       " <rdkit.Chem.rdchem.Mol at 0x7f8848b55f80>,\n",
       " <rdkit.Chem.rdchem.Mol at 0x7f8848b74030>,\n",
       " <rdkit.Chem.rdchem.Mol at 0x7f8848b74080>,\n",
       " <rdkit.Chem.rdchem.Mol at 0x7f8848b740d0>,\n",
       " <rdkit.Chem.rdchem.Mol at 0x7f8848b74120>,\n",
       " <rdkit.Chem.rdchem.Mol at 0x7f8848b74170>,\n",
       " <rdkit.Chem.rdchem.Mol at 0x7f8848b741c0>,\n",
       " <rdkit.Chem.rdchem.Mol at 0x7f8848b74260>,\n",
       " <rdkit.Chem.rdchem.Mol at 0x7f8848b742b0>,\n",
       " <rdkit.Chem.rdchem.Mol at 0x7f8848b74300>,\n",
       " <rdkit.Chem.rdchem.Mol at 0x7f8848b74350>,\n",
       " <rdkit.Chem.rdchem.Mol at 0x7f8848b743a0>,\n",
       " <rdkit.Chem.rdchem.Mol at 0x7f8848b743f0>,\n",
       " <rdkit.Chem.rdchem.Mol at 0x7f8848b74440>,\n",
       " <rdkit.Chem.rdchem.Mol at 0x7f8848b74490>,\n",
       " <rdkit.Chem.rdchem.Mol at 0x7f8848b744e0>,\n",
       " <rdkit.Chem.rdchem.Mol at 0x7f8848b74530>,\n",
       " <rdkit.Chem.rdchem.Mol at 0x7f8848b74580>,\n",
       " <rdkit.Chem.rdchem.Mol at 0x7f8848b745d0>,\n",
       " <rdkit.Chem.rdchem.Mol at 0x7f8848b74620>,\n",
       " <rdkit.Chem.rdchem.Mol at 0x7f8848b74670>,\n",
       " <rdkit.Chem.rdchem.Mol at 0x7f8848b746c0>,\n",
       " <rdkit.Chem.rdchem.Mol at 0x7f8848b74710>,\n",
       " <rdkit.Chem.rdchem.Mol at 0x7f8848b74760>,\n",
       " <rdkit.Chem.rdchem.Mol at 0x7f8848b747b0>,\n",
       " <rdkit.Chem.rdchem.Mol at 0x7f8848b74800>,\n",
       " <rdkit.Chem.rdchem.Mol at 0x7f8848b74850>,\n",
       " <rdkit.Chem.rdchem.Mol at 0x7f8848b74940>,\n",
       " <rdkit.Chem.rdchem.Mol at 0x7f8848b74990>,\n",
       " <rdkit.Chem.rdchem.Mol at 0x7f8848b749e0>,\n",
       " <rdkit.Chem.rdchem.Mol at 0x7f8848b74a30>,\n",
       " <rdkit.Chem.rdchem.Mol at 0x7f8848b74a80>,\n",
       " <rdkit.Chem.rdchem.Mol at 0x7f8848b74ad0>,\n",
       " <rdkit.Chem.rdchem.Mol at 0x7f8848b74b20>,\n",
       " <rdkit.Chem.rdchem.Mol at 0x7f8848b74b70>,\n",
       " <rdkit.Chem.rdchem.Mol at 0x7f8848b74bc0>,\n",
       " <rdkit.Chem.rdchem.Mol at 0x7f8848b74c10>,\n",
       " <rdkit.Chem.rdchem.Mol at 0x7f8848b74c60>,\n",
       " <rdkit.Chem.rdchem.Mol at 0x7f8848b74cb0>,\n",
       " <rdkit.Chem.rdchem.Mol at 0x7f8848b74d00>,\n",
       " <rdkit.Chem.rdchem.Mol at 0x7f8848b74d50>,\n",
       " <rdkit.Chem.rdchem.Mol at 0x7f8848b74da0>,\n",
       " <rdkit.Chem.rdchem.Mol at 0x7f8848b74df0>,\n",
       " <rdkit.Chem.rdchem.Mol at 0x7f8848b74e40>,\n",
       " <rdkit.Chem.rdchem.Mol at 0x7f8848b74e90>,\n",
       " <rdkit.Chem.rdchem.Mol at 0x7f8848b74ee0>,\n",
       " <rdkit.Chem.rdchem.Mol at 0x7f8848b74f30>,\n",
       " <rdkit.Chem.rdchem.Mol at 0x7f8848b74f80>,\n",
       " <rdkit.Chem.rdchem.Mol at 0x7f8848b69030>,\n",
       " <rdkit.Chem.rdchem.Mol at 0x7f8848b69080>,\n",
       " <rdkit.Chem.rdchem.Mol at 0x7f8848b690d0>,\n",
       " <rdkit.Chem.rdchem.Mol at 0x7f8848b69120>,\n",
       " <rdkit.Chem.rdchem.Mol at 0x7f8848b69170>,\n",
       " <rdkit.Chem.rdchem.Mol at 0x7f8848b691c0>,\n",
       " <rdkit.Chem.rdchem.Mol at 0x7f8848b69210>,\n",
       " <rdkit.Chem.rdchem.Mol at 0x7f8848b69260>,\n",
       " <rdkit.Chem.rdchem.Mol at 0x7f8848b692b0>,\n",
       " <rdkit.Chem.rdchem.Mol at 0x7f8848b69300>,\n",
       " <rdkit.Chem.rdchem.Mol at 0x7f8848b69350>,\n",
       " <rdkit.Chem.rdchem.Mol at 0x7f8848b693a0>,\n",
       " <rdkit.Chem.rdchem.Mol at 0x7f8848b693f0>,\n",
       " <rdkit.Chem.rdchem.Mol at 0x7f8848b69440>,\n",
       " <rdkit.Chem.rdchem.Mol at 0x7f8848b69490>,\n",
       " <rdkit.Chem.rdchem.Mol at 0x7f8848b694e0>,\n",
       " <rdkit.Chem.rdchem.Mol at 0x7f8848b69530>,\n",
       " <rdkit.Chem.rdchem.Mol at 0x7f8848b69580>,\n",
       " <rdkit.Chem.rdchem.Mol at 0x7f8848b695d0>,\n",
       " <rdkit.Chem.rdchem.Mol at 0x7f8848b69620>,\n",
       " <rdkit.Chem.rdchem.Mol at 0x7f8848b69670>,\n",
       " <rdkit.Chem.rdchem.Mol at 0x7f8848b696c0>,\n",
       " <rdkit.Chem.rdchem.Mol at 0x7f8848b69710>,\n",
       " <rdkit.Chem.rdchem.Mol at 0x7f8848b69760>,\n",
       " <rdkit.Chem.rdchem.Mol at 0x7f8848b697b0>,\n",
       " <rdkit.Chem.rdchem.Mol at 0x7f8848b69800>,\n",
       " <rdkit.Chem.rdchem.Mol at 0x7f8848b69850>,\n",
       " <rdkit.Chem.rdchem.Mol at 0x7f8848b698a0>,\n",
       " <rdkit.Chem.rdchem.Mol at 0x7f8848b698f0>,\n",
       " <rdkit.Chem.rdchem.Mol at 0x7f8848b69940>,\n",
       " <rdkit.Chem.rdchem.Mol at 0x7f8848b69990>,\n",
       " <rdkit.Chem.rdchem.Mol at 0x7f8848b699e0>,\n",
       " <rdkit.Chem.rdchem.Mol at 0x7f8848b69a30>,\n",
       " <rdkit.Chem.rdchem.Mol at 0x7f8848b69a80>,\n",
       " <rdkit.Chem.rdchem.Mol at 0x7f8848b69ad0>,\n",
       " <rdkit.Chem.rdchem.Mol at 0x7f8848b69b20>,\n",
       " <rdkit.Chem.rdchem.Mol at 0x7f8848b69b70>,\n",
       " <rdkit.Chem.rdchem.Mol at 0x7f8848b69bc0>,\n",
       " <rdkit.Chem.rdchem.Mol at 0x7f8848b69c10>,\n",
       " <rdkit.Chem.rdchem.Mol at 0x7f8848b69c60>,\n",
       " <rdkit.Chem.rdchem.Mol at 0x7f8848b69cb0>,\n",
       " <rdkit.Chem.rdchem.Mol at 0x7f8848b69d00>,\n",
       " <rdkit.Chem.rdchem.Mol at 0x7f8848b69d50>,\n",
       " <rdkit.Chem.rdchem.Mol at 0x7f8848b69da0>,\n",
       " <rdkit.Chem.rdchem.Mol at 0x7f8848b69df0>,\n",
       " <rdkit.Chem.rdchem.Mol at 0x7f8848b69e40>,\n",
       " <rdkit.Chem.rdchem.Mol at 0x7f8848b69e90>,\n",
       " <rdkit.Chem.rdchem.Mol at 0x7f8848b69ee0>,\n",
       " <rdkit.Chem.rdchem.Mol at 0x7f8848b69f30>,\n",
       " <rdkit.Chem.rdchem.Mol at 0x7f8848b69f80>,\n",
       " <rdkit.Chem.rdchem.Mol at 0x7f8848b71030>,\n",
       " <rdkit.Chem.rdchem.Mol at 0x7f8848b71080>,\n",
       " <rdkit.Chem.rdchem.Mol at 0x7f8848b710d0>,\n",
       " <rdkit.Chem.rdchem.Mol at 0x7f8848b71120>,\n",
       " <rdkit.Chem.rdchem.Mol at 0x7f8848b71170>,\n",
       " <rdkit.Chem.rdchem.Mol at 0x7f8848b711c0>,\n",
       " <rdkit.Chem.rdchem.Mol at 0x7f8848b71210>,\n",
       " <rdkit.Chem.rdchem.Mol at 0x7f8848b71260>,\n",
       " <rdkit.Chem.rdchem.Mol at 0x7f8848b712b0>,\n",
       " <rdkit.Chem.rdchem.Mol at 0x7f8848b71300>,\n",
       " <rdkit.Chem.rdchem.Mol at 0x7f8848b71350>,\n",
       " <rdkit.Chem.rdchem.Mol at 0x7f8848b713a0>,\n",
       " <rdkit.Chem.rdchem.Mol at 0x7f8848b713f0>,\n",
       " <rdkit.Chem.rdchem.Mol at 0x7f8848b71440>,\n",
       " <rdkit.Chem.rdchem.Mol at 0x7f8848b71490>,\n",
       " <rdkit.Chem.rdchem.Mol at 0x7f8848b714e0>,\n",
       " <rdkit.Chem.rdchem.Mol at 0x7f8848b71530>,\n",
       " <rdkit.Chem.rdchem.Mol at 0x7f8848b71580>,\n",
       " <rdkit.Chem.rdchem.Mol at 0x7f8848b715d0>,\n",
       " <rdkit.Chem.rdchem.Mol at 0x7f8848b71620>,\n",
       " <rdkit.Chem.rdchem.Mol at 0x7f8848b71670>,\n",
       " <rdkit.Chem.rdchem.Mol at 0x7f8848b716c0>,\n",
       " <rdkit.Chem.rdchem.Mol at 0x7f8848b71710>,\n",
       " <rdkit.Chem.rdchem.Mol at 0x7f8848b71760>,\n",
       " <rdkit.Chem.rdchem.Mol at 0x7f8848b717b0>,\n",
       " <rdkit.Chem.rdchem.Mol at 0x7f8848b71800>,\n",
       " <rdkit.Chem.rdchem.Mol at 0x7f8848b71850>,\n",
       " <rdkit.Chem.rdchem.Mol at 0x7f8848b718a0>,\n",
       " <rdkit.Chem.rdchem.Mol at 0x7f8848b718f0>,\n",
       " <rdkit.Chem.rdchem.Mol at 0x7f8848b71940>,\n",
       " <rdkit.Chem.rdchem.Mol at 0x7f8848b71990>,\n",
       " <rdkit.Chem.rdchem.Mol at 0x7f8848b719e0>,\n",
       " <rdkit.Chem.rdchem.Mol at 0x7f8848b71a30>,\n",
       " <rdkit.Chem.rdchem.Mol at 0x7f8848b71a80>,\n",
       " <rdkit.Chem.rdchem.Mol at 0x7f8848b71ad0>,\n",
       " <rdkit.Chem.rdchem.Mol at 0x7f8848b71b20>,\n",
       " <rdkit.Chem.rdchem.Mol at 0x7f8848b71b70>,\n",
       " <rdkit.Chem.rdchem.Mol at 0x7f8848b71bc0>,\n",
       " <rdkit.Chem.rdchem.Mol at 0x7f8848b71c10>,\n",
       " <rdkit.Chem.rdchem.Mol at 0x7f8848b71c60>,\n",
       " <rdkit.Chem.rdchem.Mol at 0x7f8848b71cb0>,\n",
       " <rdkit.Chem.rdchem.Mol at 0x7f8848b71d00>,\n",
       " <rdkit.Chem.rdchem.Mol at 0x7f8848b71d50>,\n",
       " <rdkit.Chem.rdchem.Mol at 0x7f8848b71da0>,\n",
       " <rdkit.Chem.rdchem.Mol at 0x7f8848b71df0>,\n",
       " <rdkit.Chem.rdchem.Mol at 0x7f8848b71e40>,\n",
       " <rdkit.Chem.rdchem.Mol at 0x7f8848b71e90>,\n",
       " <rdkit.Chem.rdchem.Mol at 0x7f8848b71ee0>,\n",
       " <rdkit.Chem.rdchem.Mol at 0x7f8848b71f30>,\n",
       " <rdkit.Chem.rdchem.Mol at 0x7f8848b71f80>,\n",
       " <rdkit.Chem.rdchem.Mol at 0x7f8848b79030>,\n",
       " <rdkit.Chem.rdchem.Mol at 0x7f8848b79080>,\n",
       " <rdkit.Chem.rdchem.Mol at 0x7f8848b790d0>,\n",
       " <rdkit.Chem.rdchem.Mol at 0x7f8848b79120>,\n",
       " <rdkit.Chem.rdchem.Mol at 0x7f8848b79170>,\n",
       " <rdkit.Chem.rdchem.Mol at 0x7f8848b791c0>,\n",
       " <rdkit.Chem.rdchem.Mol at 0x7f8848b79210>,\n",
       " <rdkit.Chem.rdchem.Mol at 0x7f8848b79260>,\n",
       " <rdkit.Chem.rdchem.Mol at 0x7f8848b792b0>,\n",
       " <rdkit.Chem.rdchem.Mol at 0x7f8848b79300>,\n",
       " <rdkit.Chem.rdchem.Mol at 0x7f8848b79350>,\n",
       " <rdkit.Chem.rdchem.Mol at 0x7f8848b793a0>,\n",
       " <rdkit.Chem.rdchem.Mol at 0x7f8848b793f0>,\n",
       " <rdkit.Chem.rdchem.Mol at 0x7f8848b79440>,\n",
       " <rdkit.Chem.rdchem.Mol at 0x7f8848b79490>,\n",
       " <rdkit.Chem.rdchem.Mol at 0x7f8848b794e0>,\n",
       " <rdkit.Chem.rdchem.Mol at 0x7f8848b79530>,\n",
       " <rdkit.Chem.rdchem.Mol at 0x7f8848b79580>,\n",
       " <rdkit.Chem.rdchem.Mol at 0x7f8848b795d0>,\n",
       " <rdkit.Chem.rdchem.Mol at 0x7f8848b79620>,\n",
       " <rdkit.Chem.rdchem.Mol at 0x7f8848b79670>,\n",
       " <rdkit.Chem.rdchem.Mol at 0x7f8848b796c0>,\n",
       " <rdkit.Chem.rdchem.Mol at 0x7f8848b79710>,\n",
       " <rdkit.Chem.rdchem.Mol at 0x7f8848b79760>,\n",
       " <rdkit.Chem.rdchem.Mol at 0x7f8848b797b0>,\n",
       " <rdkit.Chem.rdchem.Mol at 0x7f8848b79800>,\n",
       " <rdkit.Chem.rdchem.Mol at 0x7f8848b79850>,\n",
       " <rdkit.Chem.rdchem.Mol at 0x7f8848b798a0>,\n",
       " <rdkit.Chem.rdchem.Mol at 0x7f8848b798f0>,\n",
       " <rdkit.Chem.rdchem.Mol at 0x7f8848b79940>,\n",
       " <rdkit.Chem.rdchem.Mol at 0x7f8848b79990>,\n",
       " <rdkit.Chem.rdchem.Mol at 0x7f8848b799e0>,\n",
       " <rdkit.Chem.rdchem.Mol at 0x7f8848b79a30>,\n",
       " <rdkit.Chem.rdchem.Mol at 0x7f8848b79a80>,\n",
       " <rdkit.Chem.rdchem.Mol at 0x7f8848b79ad0>,\n",
       " <rdkit.Chem.rdchem.Mol at 0x7f8848b79b20>,\n",
       " <rdkit.Chem.rdchem.Mol at 0x7f8848b79b70>,\n",
       " <rdkit.Chem.rdchem.Mol at 0x7f8848b79bc0>,\n",
       " <rdkit.Chem.rdchem.Mol at 0x7f8848b79c10>,\n",
       " <rdkit.Chem.rdchem.Mol at 0x7f8848b79c60>,\n",
       " <rdkit.Chem.rdchem.Mol at 0x7f8848b79cb0>,\n",
       " <rdkit.Chem.rdchem.Mol at 0x7f8848b79d00>,\n",
       " <rdkit.Chem.rdchem.Mol at 0x7f8848b79d50>,\n",
       " <rdkit.Chem.rdchem.Mol at 0x7f8848b79da0>,\n",
       " <rdkit.Chem.rdchem.Mol at 0x7f8848b79df0>,\n",
       " <rdkit.Chem.rdchem.Mol at 0x7f8848b79e40>,\n",
       " <rdkit.Chem.rdchem.Mol at 0x7f8848b79e90>,\n",
       " <rdkit.Chem.rdchem.Mol at 0x7f8848b79ee0>,\n",
       " <rdkit.Chem.rdchem.Mol at 0x7f8848b79f30>,\n",
       " <rdkit.Chem.rdchem.Mol at 0x7f8848b79f80>,\n",
       " <rdkit.Chem.rdchem.Mol at 0x7f8848b7c030>,\n",
       " <rdkit.Chem.rdchem.Mol at 0x7f8848b7c080>,\n",
       " <rdkit.Chem.rdchem.Mol at 0x7f8848b7c0d0>,\n",
       " <rdkit.Chem.rdchem.Mol at 0x7f8848b7c120>,\n",
       " <rdkit.Chem.rdchem.Mol at 0x7f8848b7c170>,\n",
       " <rdkit.Chem.rdchem.Mol at 0x7f8848b7c1c0>,\n",
       " <rdkit.Chem.rdchem.Mol at 0x7f8848b7c210>,\n",
       " <rdkit.Chem.rdchem.Mol at 0x7f8848b7c260>,\n",
       " <rdkit.Chem.rdchem.Mol at 0x7f8848b7c2b0>,\n",
       " <rdkit.Chem.rdchem.Mol at 0x7f8848b7c300>,\n",
       " <rdkit.Chem.rdchem.Mol at 0x7f8848b7c350>,\n",
       " <rdkit.Chem.rdchem.Mol at 0x7f8848b7c3a0>,\n",
       " <rdkit.Chem.rdchem.Mol at 0x7f8848b7c3f0>,\n",
       " <rdkit.Chem.rdchem.Mol at 0x7f8848b7c440>,\n",
       " <rdkit.Chem.rdchem.Mol at 0x7f8848b7c490>,\n",
       " <rdkit.Chem.rdchem.Mol at 0x7f8848b7c4e0>,\n",
       " <rdkit.Chem.rdchem.Mol at 0x7f8848b7c530>,\n",
       " <rdkit.Chem.rdchem.Mol at 0x7f8848b7c580>,\n",
       " <rdkit.Chem.rdchem.Mol at 0x7f8848b7c5d0>,\n",
       " <rdkit.Chem.rdchem.Mol at 0x7f8848b7c620>,\n",
       " <rdkit.Chem.rdchem.Mol at 0x7f8848b7c670>,\n",
       " <rdkit.Chem.rdchem.Mol at 0x7f8848b7c6c0>,\n",
       " <rdkit.Chem.rdchem.Mol at 0x7f8848b7c710>,\n",
       " <rdkit.Chem.rdchem.Mol at 0x7f8848b7c760>,\n",
       " <rdkit.Chem.rdchem.Mol at 0x7f8848b7c7b0>,\n",
       " <rdkit.Chem.rdchem.Mol at 0x7f8848b7c800>,\n",
       " <rdkit.Chem.rdchem.Mol at 0x7f8848b7c850>,\n",
       " <rdkit.Chem.rdchem.Mol at 0x7f8848b7c8a0>,\n",
       " <rdkit.Chem.rdchem.Mol at 0x7f8848b7c8f0>,\n",
       " <rdkit.Chem.rdchem.Mol at 0x7f8848b7c940>,\n",
       " <rdkit.Chem.rdchem.Mol at 0x7f8848b7c990>,\n",
       " <rdkit.Chem.rdchem.Mol at 0x7f8848b7c9e0>,\n",
       " <rdkit.Chem.rdchem.Mol at 0x7f8848b7ca30>,\n",
       " <rdkit.Chem.rdchem.Mol at 0x7f8848b7ca80>,\n",
       " <rdkit.Chem.rdchem.Mol at 0x7f8848b7cad0>,\n",
       " <rdkit.Chem.rdchem.Mol at 0x7f8848b7cb20>,\n",
       " <rdkit.Chem.rdchem.Mol at 0x7f8848b7cb70>,\n",
       " <rdkit.Chem.rdchem.Mol at 0x7f8848b7cbc0>,\n",
       " <rdkit.Chem.rdchem.Mol at 0x7f8848b7cc10>,\n",
       " <rdkit.Chem.rdchem.Mol at 0x7f8848b7cc60>,\n",
       " <rdkit.Chem.rdchem.Mol at 0x7f8848b7ccb0>,\n",
       " <rdkit.Chem.rdchem.Mol at 0x7f8848b7cd00>,\n",
       " <rdkit.Chem.rdchem.Mol at 0x7f8848b7cd50>,\n",
       " <rdkit.Chem.rdchem.Mol at 0x7f8848b7cda0>,\n",
       " <rdkit.Chem.rdchem.Mol at 0x7f8848b7cdf0>,\n",
       " <rdkit.Chem.rdchem.Mol at 0x7f8848b7ce40>,\n",
       " <rdkit.Chem.rdchem.Mol at 0x7f8848b7ce90>,\n",
       " <rdkit.Chem.rdchem.Mol at 0x7f8848b7cee0>,\n",
       " <rdkit.Chem.rdchem.Mol at 0x7f8848b7cf30>,\n",
       " <rdkit.Chem.rdchem.Mol at 0x7f8848b7cf80>,\n",
       " <rdkit.Chem.rdchem.Mol at 0x7f8848b80030>,\n",
       " <rdkit.Chem.rdchem.Mol at 0x7f8848b80080>,\n",
       " <rdkit.Chem.rdchem.Mol at 0x7f8848b800d0>,\n",
       " <rdkit.Chem.rdchem.Mol at 0x7f8848b80120>,\n",
       " <rdkit.Chem.rdchem.Mol at 0x7f8848b80170>,\n",
       " <rdkit.Chem.rdchem.Mol at 0x7f8848b801c0>,\n",
       " <rdkit.Chem.rdchem.Mol at 0x7f8848b80210>,\n",
       " <rdkit.Chem.rdchem.Mol at 0x7f8848b80260>,\n",
       " <rdkit.Chem.rdchem.Mol at 0x7f8848b802b0>,\n",
       " <rdkit.Chem.rdchem.Mol at 0x7f8848b80300>,\n",
       " <rdkit.Chem.rdchem.Mol at 0x7f8848b80350>,\n",
       " <rdkit.Chem.rdchem.Mol at 0x7f8848b803a0>,\n",
       " <rdkit.Chem.rdchem.Mol at 0x7f8848b803f0>,\n",
       " <rdkit.Chem.rdchem.Mol at 0x7f8848b80440>,\n",
       " <rdkit.Chem.rdchem.Mol at 0x7f8848b80490>,\n",
       " <rdkit.Chem.rdchem.Mol at 0x7f8848b804e0>,\n",
       " <rdkit.Chem.rdchem.Mol at 0x7f8848b80530>,\n",
       " <rdkit.Chem.rdchem.Mol at 0x7f8848b80580>,\n",
       " <rdkit.Chem.rdchem.Mol at 0x7f8848b805d0>,\n",
       " <rdkit.Chem.rdchem.Mol at 0x7f8848b80620>,\n",
       " <rdkit.Chem.rdchem.Mol at 0x7f8848b80670>,\n",
       " <rdkit.Chem.rdchem.Mol at 0x7f8848b806c0>,\n",
       " <rdkit.Chem.rdchem.Mol at 0x7f8848b80710>,\n",
       " <rdkit.Chem.rdchem.Mol at 0x7f8848b80760>,\n",
       " <rdkit.Chem.rdchem.Mol at 0x7f8848b807b0>,\n",
       " <rdkit.Chem.rdchem.Mol at 0x7f8848b80800>,\n",
       " <rdkit.Chem.rdchem.Mol at 0x7f8848b80850>,\n",
       " <rdkit.Chem.rdchem.Mol at 0x7f8848b808a0>,\n",
       " <rdkit.Chem.rdchem.Mol at 0x7f8848b808f0>,\n",
       " <rdkit.Chem.rdchem.Mol at 0x7f8848b80940>,\n",
       " <rdkit.Chem.rdchem.Mol at 0x7f8848b80990>,\n",
       " <rdkit.Chem.rdchem.Mol at 0x7f8848b809e0>,\n",
       " <rdkit.Chem.rdchem.Mol at 0x7f8848b80a30>,\n",
       " <rdkit.Chem.rdchem.Mol at 0x7f8848b80a80>,\n",
       " <rdkit.Chem.rdchem.Mol at 0x7f8848b80ad0>,\n",
       " <rdkit.Chem.rdchem.Mol at 0x7f8848b80b20>,\n",
       " <rdkit.Chem.rdchem.Mol at 0x7f8848b80b70>,\n",
       " <rdkit.Chem.rdchem.Mol at 0x7f8848b80bc0>,\n",
       " <rdkit.Chem.rdchem.Mol at 0x7f8848b80c10>,\n",
       " <rdkit.Chem.rdchem.Mol at 0x7f8848b80c60>,\n",
       " <rdkit.Chem.rdchem.Mol at 0x7f8848b80cb0>,\n",
       " <rdkit.Chem.rdchem.Mol at 0x7f8848b80d00>,\n",
       " <rdkit.Chem.rdchem.Mol at 0x7f8848b80d50>,\n",
       " <rdkit.Chem.rdchem.Mol at 0x7f8848b80da0>,\n",
       " <rdkit.Chem.rdchem.Mol at 0x7f8848b80df0>,\n",
       " <rdkit.Chem.rdchem.Mol at 0x7f8848b80e40>,\n",
       " <rdkit.Chem.rdchem.Mol at 0x7f8848b80e90>,\n",
       " <rdkit.Chem.rdchem.Mol at 0x7f8848b80ee0>,\n",
       " <rdkit.Chem.rdchem.Mol at 0x7f8848b80f30>,\n",
       " <rdkit.Chem.rdchem.Mol at 0x7f8848b80f80>,\n",
       " <rdkit.Chem.rdchem.Mol at 0x7f8848b85030>,\n",
       " <rdkit.Chem.rdchem.Mol at 0x7f8848b85080>,\n",
       " <rdkit.Chem.rdchem.Mol at 0x7f8848b850d0>,\n",
       " <rdkit.Chem.rdchem.Mol at 0x7f8848b85120>,\n",
       " <rdkit.Chem.rdchem.Mol at 0x7f8848b85170>,\n",
       " <rdkit.Chem.rdchem.Mol at 0x7f8848b851c0>,\n",
       " <rdkit.Chem.rdchem.Mol at 0x7f8848b85210>,\n",
       " <rdkit.Chem.rdchem.Mol at 0x7f8848b85260>,\n",
       " <rdkit.Chem.rdchem.Mol at 0x7f8848b852b0>,\n",
       " <rdkit.Chem.rdchem.Mol at 0x7f8848b85300>,\n",
       " <rdkit.Chem.rdchem.Mol at 0x7f8848b85350>,\n",
       " <rdkit.Chem.rdchem.Mol at 0x7f8848b853a0>,\n",
       " <rdkit.Chem.rdchem.Mol at 0x7f8848b853f0>,\n",
       " <rdkit.Chem.rdchem.Mol at 0x7f8848b85440>,\n",
       " <rdkit.Chem.rdchem.Mol at 0x7f8848b85490>,\n",
       " <rdkit.Chem.rdchem.Mol at 0x7f8848b854e0>,\n",
       " <rdkit.Chem.rdchem.Mol at 0x7f8848b85530>,\n",
       " <rdkit.Chem.rdchem.Mol at 0x7f8848b85580>,\n",
       " <rdkit.Chem.rdchem.Mol at 0x7f8848b855d0>,\n",
       " <rdkit.Chem.rdchem.Mol at 0x7f8848b85620>,\n",
       " <rdkit.Chem.rdchem.Mol at 0x7f8848b85670>,\n",
       " <rdkit.Chem.rdchem.Mol at 0x7f8848b856c0>,\n",
       " <rdkit.Chem.rdchem.Mol at 0x7f8848b85710>,\n",
       " <rdkit.Chem.rdchem.Mol at 0x7f8848b85760>,\n",
       " <rdkit.Chem.rdchem.Mol at 0x7f8848b857b0>,\n",
       " <rdkit.Chem.rdchem.Mol at 0x7f8848b85800>,\n",
       " <rdkit.Chem.rdchem.Mol at 0x7f8848b85850>,\n",
       " <rdkit.Chem.rdchem.Mol at 0x7f8848b858a0>,\n",
       " <rdkit.Chem.rdchem.Mol at 0x7f8848b858f0>,\n",
       " <rdkit.Chem.rdchem.Mol at 0x7f8848b85940>,\n",
       " <rdkit.Chem.rdchem.Mol at 0x7f8848b85990>,\n",
       " <rdkit.Chem.rdchem.Mol at 0x7f8848b859e0>,\n",
       " <rdkit.Chem.rdchem.Mol at 0x7f8848b85a30>,\n",
       " <rdkit.Chem.rdchem.Mol at 0x7f8848b85a80>,\n",
       " <rdkit.Chem.rdchem.Mol at 0x7f8848b85ad0>,\n",
       " <rdkit.Chem.rdchem.Mol at 0x7f8848b85b20>,\n",
       " <rdkit.Chem.rdchem.Mol at 0x7f8848b85b70>,\n",
       " <rdkit.Chem.rdchem.Mol at 0x7f8848b85bc0>,\n",
       " <rdkit.Chem.rdchem.Mol at 0x7f8848b85c10>,\n",
       " <rdkit.Chem.rdchem.Mol at 0x7f8848b85c60>,\n",
       " <rdkit.Chem.rdchem.Mol at 0x7f8848b85cb0>,\n",
       " <rdkit.Chem.rdchem.Mol at 0x7f8848b85d00>,\n",
       " <rdkit.Chem.rdchem.Mol at 0x7f8848b85d50>,\n",
       " <rdkit.Chem.rdchem.Mol at 0x7f8848b85da0>,\n",
       " <rdkit.Chem.rdchem.Mol at 0x7f8848b85df0>,\n",
       " <rdkit.Chem.rdchem.Mol at 0x7f8848b85e40>,\n",
       " <rdkit.Chem.rdchem.Mol at 0x7f8848b85e90>,\n",
       " <rdkit.Chem.rdchem.Mol at 0x7f8848b85ee0>,\n",
       " <rdkit.Chem.rdchem.Mol at 0x7f8848b85f30>,\n",
       " <rdkit.Chem.rdchem.Mol at 0x7f8848b85f80>,\n",
       " <rdkit.Chem.rdchem.Mol at 0x7f8848b77030>,\n",
       " <rdkit.Chem.rdchem.Mol at 0x7f8848b77080>,\n",
       " <rdkit.Chem.rdchem.Mol at 0x7f8848b770d0>,\n",
       " <rdkit.Chem.rdchem.Mol at 0x7f8848b77120>,\n",
       " <rdkit.Chem.rdchem.Mol at 0x7f8848b77170>,\n",
       " <rdkit.Chem.rdchem.Mol at 0x7f8848b771c0>,\n",
       " <rdkit.Chem.rdchem.Mol at 0x7f8848b77210>,\n",
       " <rdkit.Chem.rdchem.Mol at 0x7f8848b77260>,\n",
       " <rdkit.Chem.rdchem.Mol at 0x7f8848b772b0>]"
      ]
     },
     "execution_count": 44,
     "metadata": {},
     "output_type": "execute_result"
    }
   ],
   "source": [
    "smi"
   ]
  },
  {
   "cell_type": "code",
   "execution_count": 45,
   "id": "3508177b",
   "metadata": {},
   "outputs": [
    {
     "data": {
      "text/plain": [
       "377"
      ]
     },
     "execution_count": 45,
     "metadata": {},
     "output_type": "execute_result"
    }
   ],
   "source": [
    "len(smi)"
   ]
  },
  {
   "cell_type": "code",
   "execution_count": 46,
   "id": "73440e3c",
   "metadata": {},
   "outputs": [],
   "source": [
    "train_DILI_fp = [AllChem.GetMorganFingerprintAsBitVect(mol,2, nBits=1024) for mol in smi if mol is not None]"
   ]
  },
  {
   "cell_type": "code",
   "execution_count": 47,
   "id": "5d986208",
   "metadata": {},
   "outputs": [],
   "source": [
    "fp_np=np.asarray(train_DILI_fp, dtype=np.int32)"
   ]
  },
  {
   "cell_type": "code",
   "execution_count": 48,
   "id": "04ed6e18",
   "metadata": {},
   "outputs": [
    {
     "data": {
      "text/plain": [
       "array([[0, 1, 0, ..., 0, 0, 0],\n",
       "       [0, 0, 0, ..., 0, 0, 0],\n",
       "       [0, 1, 0, ..., 0, 0, 0],\n",
       "       ...,\n",
       "       [0, 0, 0, ..., 0, 0, 0],\n",
       "       [0, 1, 0, ..., 0, 0, 0],\n",
       "       [0, 1, 0, ..., 0, 1, 0]], dtype=int32)"
      ]
     },
     "execution_count": 48,
     "metadata": {},
     "output_type": "execute_result"
    }
   ],
   "source": [
    "fp_np"
   ]
  },
  {
   "cell_type": "code",
   "execution_count": 49,
   "id": "b5bc426c",
   "metadata": {},
   "outputs": [
    {
     "data": {
      "text/html": [
       "<div>\n",
       "<style scoped>\n",
       "    .dataframe tbody tr th:only-of-type {\n",
       "        vertical-align: middle;\n",
       "    }\n",
       "\n",
       "    .dataframe tbody tr th {\n",
       "        vertical-align: top;\n",
       "    }\n",
       "\n",
       "    .dataframe thead th {\n",
       "        text-align: right;\n",
       "    }\n",
       "</style>\n",
       "<table border=\"1\" class=\"dataframe\">\n",
       "  <thead>\n",
       "    <tr style=\"text-align: right;\">\n",
       "      <th></th>\n",
       "      <th>cid</th>\n",
       "      <th>CompoundName</th>\n",
       "      <th>Drug label-based annotation</th>\n",
       "      <th>isosmiles</th>\n",
       "      <th>QSAR Prediction</th>\n",
       "      <th>label</th>\n",
       "    </tr>\n",
       "  </thead>\n",
       "  <tbody>\n",
       "    <tr>\n",
       "      <th>0</th>\n",
       "      <td>3474</td>\n",
       "      <td>glafenine</td>\n",
       "      <td>Most DILI-concern</td>\n",
       "      <td>C1=CC=C(C(=C1)C(=O)OCC(CO)O)NC2=C3C=CC(=CC3=NC...</td>\n",
       "      <td>NaN</td>\n",
       "      <td>1</td>\n",
       "    </tr>\n",
       "    <tr>\n",
       "      <th>1</th>\n",
       "      <td>2478</td>\n",
       "      <td>busulfan</td>\n",
       "      <td>Most DILI-concern</td>\n",
       "      <td>CS(=O)(=O)OCCCCOS(=O)(=O)C</td>\n",
       "      <td>NaN</td>\n",
       "      <td>1</td>\n",
       "    </tr>\n",
       "    <tr>\n",
       "      <th>2</th>\n",
       "      <td>2520</td>\n",
       "      <td>verapamil</td>\n",
       "      <td>Most DILI-concern</td>\n",
       "      <td>CC(C)C(CCCN(C)CCC1=CC(=C(C=C1)OC)OC)(C#N)C2=CC...</td>\n",
       "      <td>NaN</td>\n",
       "      <td>1</td>\n",
       "    </tr>\n",
       "    <tr>\n",
       "      <th>3</th>\n",
       "      <td>2662</td>\n",
       "      <td>celecoxib</td>\n",
       "      <td>Most DILI-concern</td>\n",
       "      <td>CC1=CC=C(C=C1)C2=CC(=NN2C3=CC=C(C=C3)S(=O)(=O)...</td>\n",
       "      <td>NaN</td>\n",
       "      <td>1</td>\n",
       "    </tr>\n",
       "    <tr>\n",
       "      <th>4</th>\n",
       "      <td>2898</td>\n",
       "      <td>cyclofenil</td>\n",
       "      <td>Most DILI-concern</td>\n",
       "      <td>CC(=O)OC1=CC=C(C=C1)C(=C2CCCCC2)C3=CC=C(C=C3)O...</td>\n",
       "      <td>NaN</td>\n",
       "      <td>1</td>\n",
       "    </tr>\n",
       "  </tbody>\n",
       "</table>\n",
       "</div>"
      ],
      "text/plain": [
       "    cid CompoundName Drug label-based annotation  \\\n",
       "0  3474    glafenine           Most DILI-concern   \n",
       "1  2478     busulfan           Most DILI-concern   \n",
       "2  2520    verapamil           Most DILI-concern   \n",
       "3  2662    celecoxib           Most DILI-concern   \n",
       "4  2898   cyclofenil           Most DILI-concern   \n",
       "\n",
       "                                           isosmiles  QSAR Prediction  label  \n",
       "0  C1=CC=C(C(=C1)C(=O)OCC(CO)O)NC2=C3C=CC(=CC3=NC...              NaN      1  \n",
       "1                         CS(=O)(=O)OCCCCOS(=O)(=O)C              NaN      1  \n",
       "2  CC(C)C(CCCN(C)CCC1=CC(=C(C=C1)OC)OC)(C#N)C2=CC...              NaN      1  \n",
       "3  CC1=CC=C(C=C1)C2=CC(=NN2C3=CC=C(C=C3)S(=O)(=O)...              NaN      1  \n",
       "4  CC(=O)OC1=CC=C(C=C1)C(=C2CCCCC2)C3=CC=C(C=C3)O...              NaN      1  "
      ]
     },
     "execution_count": 49,
     "metadata": {},
     "output_type": "execute_result"
    }
   ],
   "source": [
    "DILI.head()"
   ]
  },
  {
   "cell_type": "code",
   "execution_count": 50,
   "id": "b02c8e0f",
   "metadata": {},
   "outputs": [],
   "source": [
    "#sometimes we can't go for this method as we used the command that generate fp if mol is not none. so if there is some molecules too large or are none then fp are generated w.r.t that molecules.\n",
    "#so if we use the label of original dataset against the fp then it will not yield accurate results.\n",
    "X_train, X_test, y_train, y_test = train_test_split(fp_np, DILI[\"label\"].ravel(), random_state=42, test_size=0.2, shuffle=True, stratify=DILI[\"label\"])"
   ]
  },
  {
   "cell_type": "code",
   "execution_count": 51,
   "id": "ee79790c",
   "metadata": {},
   "outputs": [],
   "source": [
    "#alternative method for this is-to use the supplier\n",
    "supplier=Chem.SmilesMolSupplier(\"DILI_labelled.smi\", delimiter=\"\\t\", titleLine=False)"
   ]
  },
  {
   "cell_type": "code",
   "execution_count": 52,
   "id": "4459caa9",
   "metadata": {},
   "outputs": [],
   "source": [
    "#so if there is smiles missing, it will not bring the corresponding label as well in final dataset\n",
    "new_fp=[]\n",
    "labels=[]\n",
    "for i, mol in enumerate(supplier):\n",
    "    if mol is not None:\n",
    "        new_fp.append(rdkit.Chem.AllChem.GetMorganFingerprintAsBitVect(mol,2,nBits=1024))\n",
    "        labels.append(mol.GetProp('_Name'))"
   ]
  },
  {
   "cell_type": "code",
   "execution_count": 53,
   "id": "a0c47e86",
   "metadata": {},
   "outputs": [
    {
     "data": {
      "text/plain": [
       "377"
      ]
     },
     "execution_count": 53,
     "metadata": {},
     "output_type": "execute_result"
    }
   ],
   "source": [
    "len(labels)"
   ]
  },
  {
   "cell_type": "code",
   "execution_count": 54,
   "id": "4b457743",
   "metadata": {},
   "outputs": [
    {
     "data": {
      "text/plain": [
       "377"
      ]
     },
     "execution_count": 54,
     "metadata": {},
     "output_type": "execute_result"
    }
   ],
   "source": [
    "len(new_fp)"
   ]
  },
  {
   "cell_type": "code",
   "execution_count": 55,
   "id": "f8f4ee03",
   "metadata": {},
   "outputs": [],
   "source": [
    "fp_np=np.asarray(new_fp, dtype=np.int32)\n",
    "ids=np.asarray(labels, int).reshape(-1,1)"
   ]
  },
  {
   "cell_type": "code",
   "execution_count": 56,
   "id": "bd1a97c9",
   "metadata": {},
   "outputs": [],
   "source": [
    "X_train, X_test, y_train, y_test = train_test_split(fp_np, ids, random_state=42, test_size=0.2, shuffle=True)"
   ]
  },
  {
   "cell_type": "code",
   "execution_count": 57,
   "id": "837b50e2",
   "metadata": {},
   "outputs": [
    {
     "data": {
      "text/plain": [
       "(301, 1024)"
      ]
     },
     "execution_count": 57,
     "metadata": {},
     "output_type": "execute_result"
    }
   ],
   "source": [
    "X_train.shape"
   ]
  },
  {
   "cell_type": "code",
   "execution_count": 58,
   "id": "340d23c6",
   "metadata": {},
   "outputs": [
    {
     "data": {
      "text/plain": [
       "(76, 1024)"
      ]
     },
     "execution_count": 58,
     "metadata": {},
     "output_type": "execute_result"
    }
   ],
   "source": [
    "X_test.shape"
   ]
  },
  {
   "cell_type": "code",
   "execution_count": 59,
   "id": "a08c0eb3",
   "metadata": {},
   "outputs": [
    {
     "data": {
      "text/plain": [
       "RandomForestClassifier(n_estimators=1000, random_state=42)"
      ]
     },
     "execution_count": 59,
     "metadata": {},
     "output_type": "execute_result"
    }
   ],
   "source": [
    "#Now we will build random forest classifier\n",
    "rf=RandomForestClassifier(n_estimators=1000, random_state=42)\n",
    "rf.fit(X_train, y_train.ravel())"
   ]
  },
  {
   "cell_type": "code",
   "execution_count": 60,
   "id": "31a0f54d",
   "metadata": {},
   "outputs": [],
   "source": [
    "predicted=rf.predict(X_test)"
   ]
  },
  {
   "cell_type": "code",
   "execution_count": 61,
   "id": "4293e20c",
   "metadata": {
    "scrolled": false
   },
   "outputs": [
    {
     "name": "stdout",
     "output_type": "stream",
     "text": [
      "Predict  0        1        \n",
      "Actual\n",
      "0        32       4        \n",
      "\n",
      "1        18       22       \n",
      "\n",
      "\n",
      "\n",
      "\n",
      "\n",
      "Overall Statistics : \n",
      "\n",
      "95% CI                                                            (0.60856,0.81249)\n",
      "ACC Macro                                                         0.71053\n",
      "ARI                                                               0.16708\n",
      "AUNP                                                              0.71944\n",
      "AUNU                                                              0.71944\n",
      "Bangdiwala B                                                      0.53099\n",
      "Bennett S                                                         0.42105\n",
      "CBA                                                               0.595\n",
      "CSI                                                               0.46252\n",
      "Chi-Squared                                                       16.21593\n",
      "Chi-Squared DF                                                    1\n",
      "Conditional Entropy                                               0.7609\n",
      "Cramer V                                                          0.46192\n",
      "Cross Entropy                                                     1.10061\n",
      "F1 Macro                                                          0.70543\n",
      "F1 Micro                                                          0.71053\n",
      "FNR Macro                                                         0.28056\n",
      "FNR Micro                                                         0.28947\n",
      "FPR Macro                                                         0.28056\n",
      "FPR Micro                                                         0.28947\n",
      "Gwet AC1                                                          0.43091\n",
      "Hamming Loss                                                      0.28947\n",
      "Joint Entropy                                                     1.7589\n",
      "KL Divergence                                                     0.10261\n",
      "Kappa                                                             0.43052\n",
      "Kappa 95% CI                                                      (0.22993,0.63111)\n",
      "Kappa No Prevalence                                               0.42105\n",
      "Kappa Standard Error                                              0.10234\n",
      "Kappa Unbiased                                                    0.41085\n",
      "Krippendorff Alpha                                                0.41473\n",
      "Lambda A                                                          0.38889\n",
      "Lambda B                                                          0.15385\n",
      "Mutual Information                                                0.16592\n",
      "NIR                                                               0.52632\n",
      "Overall ACC                                                       0.71053\n",
      "Overall CEN                                                       0.71209\n",
      "Overall J                                                         (1.09259,0.5463)\n",
      "Overall MCC                                                       0.46192\n",
      "Overall MCEN                                                      0.53025\n",
      "Overall RACC                                                      0.49169\n",
      "Overall RACCU                                                     0.50866\n",
      "P-Value                                                           0.00081\n",
      "PPV Macro                                                         0.74308\n",
      "PPV Micro                                                         0.71053\n",
      "Pearson C                                                         0.41934\n",
      "Phi-Squared                                                       0.21337\n",
      "RCI                                                               0.16625\n",
      "RR                                                                38.0\n",
      "Reference Entropy                                                 0.998\n",
      "Response Entropy                                                  0.92682\n",
      "SOA1(Landis & Koch)                                               Moderate\n",
      "SOA2(Fleiss)                                                      Intermediate to Good\n",
      "SOA3(Altman)                                                      Moderate\n",
      "SOA4(Cicchetti)                                                   Fair\n",
      "SOA5(Cramer)                                                      Relatively Strong\n",
      "SOA6(Matthews)                                                    Weak\n",
      "Scott PI                                                          0.41085\n",
      "Standard Error                                                    0.05202\n",
      "TNR Macro                                                         0.71944\n",
      "TNR Micro                                                         0.71053\n",
      "TPR Macro                                                         0.71944\n",
      "TPR Micro                                                         0.71053\n",
      "Zero-one Loss                                                     22\n",
      "\n",
      "Class Statistics :\n",
      "\n",
      "Classes                                                           0             1             \n",
      "ACC(Accuracy)                                                     0.71053       0.71053       \n",
      "AGF(Adjusted F-score)                                             0.79373       0.6332        \n",
      "AGM(Adjusted geometric mean)                                      0.64776       0.76018       \n",
      "AM(Difference between automatic and manual classification)        14            -14           \n",
      "AUC(Area under the ROC curve)                                     0.71944       0.71944       \n",
      "AUCI(AUC value interpretation)                                    Good          Good          \n",
      "AUPR(Area under the PR curve)                                     0.76444       0.69808       \n",
      "BCD(Bray-Curtis dissimilarity)                                    0.09211       0.09211       \n",
      "BM(Informedness or bookmaker informedness)                        0.43889       0.43889       \n",
      "CEN(Confusion entropy)                                            0.67813       0.75633       \n",
      "DOR(Diagnostic odds ratio)                                        9.77778       9.77778       \n",
      "DP(Discriminant power)                                            0.54595       0.54595       \n",
      "DPI(Discriminant power interpretation)                            Poor          Poor          \n",
      "ERR(Error rate)                                                   0.28947       0.28947       \n",
      "F0.5(F0.5 score)                                                  0.67797       0.76389       \n",
      "F1(F1 score - harmonic mean of precision and sensitivity)         0.74419       0.66667       \n",
      "F2(F2 score)                                                      0.82474       0.5914        \n",
      "FDR(False discovery rate)                                         0.36          0.15385       \n",
      "FN(False negative/miss/type 2 error)                              4             18            \n",
      "FNR(Miss rate or false negative rate)                             0.11111       0.45          \n",
      "FOR(False omission rate)                                          0.15385       0.36          \n",
      "FP(False positive/type 1 error/false alarm)                       18            4             \n",
      "FPR(Fall-out or false positive rate)                              0.45          0.11111       \n",
      "G(G-measure geometric mean of precision and sensitivity)          0.75425       0.68219       \n",
      "GI(Gini index)                                                    0.43889       0.43889       \n",
      "GM(G-mean geometric mean of specificity and sensitivity)          0.69921       0.69921       \n",
      "IBA(Index of balanced accuracy)                                   0.65457       0.32321       \n",
      "ICSI(Individual classification success index)                     0.52889       0.39615       \n",
      "IS(Information score)                                             0.43415       0.68499       \n",
      "J(Jaccard index)                                                  0.59259       0.5           \n",
      "LS(Lift score)                                                    1.35111       1.60769       \n",
      "MCC(Matthews correlation coefficient)                             0.46192       0.46192       \n",
      "MCCI(Matthews correlation coefficient interpretation)             Weak          Weak          \n",
      "MCEN(Modified confusion entropy)                                  0.80646       0.84202       \n",
      "MK(Markedness)                                                    0.48615       0.48615       \n",
      "N(Condition negative)                                             40            36            \n",
      "NLR(Negative likelihood ratio)                                    0.20202       0.50625       \n",
      "NLRI(Negative likelihood ratio interpretation)                    Poor          Negligible    \n",
      "NPV(Negative predictive value)                                    0.84615       0.64          \n",
      "OC(Overlap coefficient)                                           0.88889       0.84615       \n",
      "OOC(Otsuka-Ochiai coefficient)                                    0.75425       0.68219       \n",
      "OP(Optimized precision)                                           0.47501       0.47501       \n",
      "P(Condition positive or support)                                  36            40            \n",
      "PLR(Positive likelihood ratio)                                    1.97531       4.95          \n",
      "PLRI(Positive likelihood ratio interpretation)                    Poor          Poor          \n",
      "POP(Population)                                                   76            76            \n",
      "PPV(Precision or positive predictive value)                       0.64          0.84615       \n",
      "PRE(Prevalence)                                                   0.47368       0.52632       \n",
      "Q(Yule Q - coefficient of colligation)                            0.81443       0.81443       \n",
      "QI(Yule Q interpretation)                                         Strong        Strong        \n",
      "RACC(Random accuracy)                                             0.31163       0.18006       \n",
      "RACCU(Random accuracy unbiased)                                   0.32012       0.18854       \n",
      "TN(True negative/correct rejection)                               22            32            \n",
      "TNR(Specificity or true negative rate)                            0.55          0.88889       \n",
      "TON(Test outcome negative)                                        26            50            \n",
      "TOP(Test outcome positive)                                        50            26            \n",
      "TP(True positive/hit)                                             32            22            \n",
      "TPR(Sensitivity, recall, hit rate, or true positive rate)         0.88889       0.55          \n",
      "Y(Youden index)                                                   0.43889       0.43889       \n",
      "dInd(Distance index)                                              0.46351       0.46351       \n",
      "sInd(Similarity index)                                            0.67225       0.67225       \n",
      "\n"
     ]
    }
   ],
   "source": [
    "from pycm import *\n",
    "cm = ConfusionMatrix(y_test.reshape(-1), predicted)\n",
    "print(cm)\n",
    "#check for MCC (its used in drug discovery), AUC"
   ]
  },
  {
   "cell_type": "code",
   "execution_count": 62,
   "id": "626eb75a",
   "metadata": {},
   "outputs": [],
   "source": [
    "from sklearn.svm import SVC\n",
    "svm = SVC()"
   ]
  },
  {
   "cell_type": "code",
   "execution_count": 63,
   "id": "52e963df",
   "metadata": {},
   "outputs": [
    {
     "data": {
      "text/plain": [
       "SVC()"
      ]
     },
     "execution_count": 63,
     "metadata": {},
     "output_type": "execute_result"
    }
   ],
   "source": [
    "svm.fit(X_train, y_train.ravel())"
   ]
  },
  {
   "cell_type": "code",
   "execution_count": 64,
   "id": "cf5bf30f",
   "metadata": {
    "scrolled": true
   },
   "outputs": [
    {
     "name": "stdout",
     "output_type": "stream",
     "text": [
      "Predict  0        1        \n",
      "Actual\n",
      "0        34       2        \n",
      "\n",
      "1        19       21       \n",
      "\n",
      "\n",
      "\n",
      "\n",
      "\n",
      "Overall Statistics : \n",
      "\n",
      "95% CI                                                            (0.62315,0.82422)\n",
      "ACC Macro                                                         0.72368\n",
      "ARI                                                               0.19071\n",
      "AUNP                                                              0.73472\n",
      "AUNU                                                              0.73472\n",
      "Bangdiwala B                                                      0.56471\n",
      "Bennett S                                                         0.44737\n",
      "CBA                                                               0.58325\n",
      "CSI                                                               0.512\n",
      "Chi-Squared                                                       19.78522\n",
      "Chi-Squared DF                                                    1\n",
      "Conditional Entropy                                               0.67199\n",
      "Cramer V                                                          0.51023\n",
      "Cross Entropy                                                     1.15388\n",
      "F1 Macro                                                          0.71536\n",
      "F1 Micro                                                          0.72368\n",
      "FNR Macro                                                         0.26528\n",
      "FNR Micro                                                         0.27632\n",
      "FPR Macro                                                         0.26528\n",
      "FPR Micro                                                         0.27632\n",
      "Gwet AC1                                                          0.46308\n",
      "Hamming Loss                                                      0.27632\n",
      "Joint Entropy                                                     1.66999\n",
      "KL Divergence                                                     0.15588\n",
      "Kappa                                                             0.45862\n",
      "Kappa 95% CI                                                      (0.26163,0.6556)\n",
      "Kappa No Prevalence                                               0.44737\n",
      "Kappa Standard Error                                              0.1005\n",
      "Kappa Unbiased                                                    0.43071\n",
      "Krippendorff Alpha                                                0.43446\n",
      "Lambda A                                                          0.41667\n",
      "Lambda B                                                          0.08696\n",
      "Mutual Information                                                0.21249\n",
      "NIR                                                               0.52632\n",
      "Overall ACC                                                       0.72368\n",
      "Overall CEN                                                       0.63218\n",
      "Overall J                                                         (1.11818,0.55909)\n",
      "Overall MCC                                                       0.51023\n",
      "Overall MCEN                                                      0.45543\n",
      "Overall RACC                                                      0.48961\n",
      "Overall RACCU                                                     0.51463\n",
      "P-Value                                                           0.00035\n",
      "PPV Macro                                                         0.77728\n",
      "PPV Micro                                                         0.72368\n",
      "Pearson C                                                         0.45449\n",
      "Phi-Squared                                                       0.26033\n",
      "RCI                                                               0.21292\n",
      "RR                                                                38.0\n",
      "Reference Entropy                                                 0.998\n",
      "Response Entropy                                                  0.88448\n",
      "SOA1(Landis & Koch)                                               Moderate\n",
      "SOA2(Fleiss)                                                      Intermediate to Good\n",
      "SOA3(Altman)                                                      Moderate\n",
      "SOA4(Cicchetti)                                                   Fair\n",
      "SOA5(Cramer)                                                      Relatively Strong\n",
      "SOA6(Matthews)                                                    Moderate\n",
      "Scott PI                                                          0.43071\n",
      "Standard Error                                                    0.05129\n",
      "TNR Macro                                                         0.73472\n",
      "TNR Micro                                                         0.72368\n",
      "TPR Macro                                                         0.73472\n",
      "TPR Micro                                                         0.72368\n",
      "Zero-one Loss                                                     21\n",
      "\n",
      "Class Statistics :\n",
      "\n",
      "Classes                                                           0             1             \n",
      "ACC(Accuracy)                                                     0.72368       0.72368       \n",
      "AGF(Adjusted F-score)                                             0.82851       0.62714       \n",
      "AGM(Adjusted geometric mean)                                      0.64238       0.78139       \n",
      "AM(Difference between automatic and manual classification)        17            -17           \n",
      "AUC(Area under the ROC curve)                                     0.73472       0.73472       \n",
      "AUCI(AUC value interpretation)                                    Good          Good          \n",
      "AUPR(Area under the PR curve)                                     0.79298       0.71902       \n",
      "BCD(Bray-Curtis dissimilarity)                                    0.11184       0.11184       \n",
      "BM(Informedness or bookmaker informedness)                        0.46944       0.46944       \n",
      "CEN(Confusion entropy)                                            0.59865       0.67956       \n",
      "DOR(Diagnostic odds ratio)                                        18.78947      18.78947      \n",
      "DP(Discriminant power)                                            0.70235       0.70235       \n",
      "DPI(Discriminant power interpretation)                            Poor          Poor          \n",
      "ERR(Error rate)                                                   0.27632       0.27632       \n",
      "F0.5(F0.5 score)                                                  0.68548       0.79545       \n",
      "F1(F1 score - harmonic mean of precision and sensitivity)         0.76404       0.66667       \n",
      "F2(F2 score)                                                      0.86294       0.57377       \n",
      "FDR(False discovery rate)                                         0.35849       0.08696       \n",
      "FN(False negative/miss/type 2 error)                              2             19            \n",
      "FNR(Miss rate or false negative rate)                             0.05556       0.475         \n",
      "FOR(False omission rate)                                          0.08696       0.35849       \n",
      "FP(False positive/type 1 error/false alarm)                       19            2             \n",
      "FPR(Fall-out or false positive rate)                              0.475         0.05556       \n",
      "G(G-measure geometric mean of precision and sensitivity)          0.77838       0.69235       \n",
      "GI(Gini index)                                                    0.46944       0.46944       \n",
      "GM(G-mean geometric mean of specificity and sensitivity)          0.70415       0.70415       \n",
      "IBA(Index of balanced accuracy)                                   0.70381       0.28786       \n",
      "ICSI(Individual classification success index)                     0.58595       0.43804       \n",
      "IS(Information score)                                             0.43754       0.79475       \n",
      "J(Jaccard index)                                                  0.61818       0.5           \n",
      "LS(Lift score)                                                    1.3543        1.73478       \n",
      "MCC(Matthews correlation coefficient)                             0.51023       0.51023       \n",
      "MCCI(Matthews correlation coefficient interpretation)             Moderate      Moderate      \n",
      "MCEN(Modified confusion entropy)                                  0.7036        0.72686       \n",
      "MK(Markedness)                                                    0.55455       0.55455       \n",
      "N(Condition negative)                                             40            36            \n",
      "NLR(Negative likelihood ratio)                                    0.10582       0.50294       \n",
      "NLRI(Negative likelihood ratio interpretation)                    Fair          Negligible    \n",
      "NPV(Negative predictive value)                                    0.91304       0.64151       \n",
      "OC(Overlap coefficient)                                           0.94444       0.91304       \n",
      "OOC(Otsuka-Ochiai coefficient)                                    0.77838       0.69235       \n",
      "OP(Optimized precision)                                           0.43824       0.43824       \n",
      "P(Condition positive or support)                                  36            40            \n",
      "PLR(Positive likelihood ratio)                                    1.9883        9.45          \n",
      "PLRI(Positive likelihood ratio interpretation)                    Poor          Fair          \n",
      "POP(Population)                                                   76            76            \n",
      "PPV(Precision or positive predictive value)                       0.64151       0.91304       \n",
      "PRE(Prevalence)                                                   0.47368       0.52632       \n",
      "Q(Yule Q - coefficient of colligation)                            0.89894       0.89894       \n",
      "QI(Yule Q interpretation)                                         Strong        Strong        \n",
      "RACC(Random accuracy)                                             0.33033       0.15928       \n",
      "RACCU(Random accuracy unbiased)                                   0.34284       0.17179       \n",
      "TN(True negative/correct rejection)                               21            34            \n",
      "TNR(Specificity or true negative rate)                            0.525         0.94444       \n",
      "TON(Test outcome negative)                                        23            53            \n",
      "TOP(Test outcome positive)                                        53            23            \n",
      "TP(True positive/hit)                                             34            21            \n",
      "TPR(Sensitivity, recall, hit rate, or true positive rate)         0.94444       0.525         \n",
      "Y(Youden index)                                                   0.46944       0.46944       \n",
      "dInd(Distance index)                                              0.47824       0.47824       \n",
      "sInd(Similarity index)                                            0.66183       0.66183       \n",
      "\n"
     ]
    }
   ],
   "source": [
    "pd.set_option('display.max_rows',1000)\n",
    "predicted_svm=svm.predict(X_test)\n",
    "cm_svc=ConfusionMatrix(y_test.reshape(-1), predicted_svm)\n",
    "print(cm_svc)"
   ]
  },
  {
   "cell_type": "code",
   "execution_count": 65,
   "id": "4ac26f07",
   "metadata": {},
   "outputs": [],
   "source": [
    "#we can do hyperparameter optimization"
   ]
  },
  {
   "cell_type": "code",
   "execution_count": 66,
   "id": "2035fdc9",
   "metadata": {},
   "outputs": [],
   "source": [
    "#from padelpy import padelpy descriptors\n",
    "#or we can genearte using smiles"
   ]
  },
  {
   "cell_type": "code",
   "execution_count": 67,
   "id": "866903da",
   "metadata": {},
   "outputs": [],
   "source": [
    "#we can save a model in pickle\n",
    "import pickle\n",
    "with open(\"DILI_rf_model.pkl\", \"wb\") as f:#here w in wb stands for write\n",
    "    clf=pickle.dump(rf, f)"
   ]
  },
  {
   "cell_type": "code",
   "execution_count": 68,
   "id": "aeb1bb1c",
   "metadata": {},
   "outputs": [],
   "source": [
    "#if we want to test the new dataset using the rf classifier, we need to follow the following instructions\n",
    "#here w in wb stands for write\n",
    "import pickle\n",
    "with open(\"DILI_rf_model.pkl\", \"rb\") as f:\n",
    "    clf=pickle.load(f)"
   ]
  }
 ],
 "metadata": {
  "kernelspec": {
   "display_name": "Python 3 (ipykernel)",
   "language": "python",
   "name": "python3"
  },
  "language_info": {
   "codemirror_mode": {
    "name": "ipython",
    "version": 3
   },
   "file_extension": ".py",
   "mimetype": "text/x-python",
   "name": "python",
   "nbconvert_exporter": "python",
   "pygments_lexer": "ipython3",
   "version": "3.9.15"
  }
 },
 "nbformat": 4,
 "nbformat_minor": 5
}
